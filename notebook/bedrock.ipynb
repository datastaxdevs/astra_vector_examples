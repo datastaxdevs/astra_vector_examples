{
  "cells": [
    {
      "cell_type": "markdown",
      "id": "6715bc2b",
      "metadata": {},
      "source": [
        "# Vector Similarity Astra-Bedrock Search QA Quickstart\n",
        "\n",
        "Set up a simple Question-Answering system with LangChain and AWS Bedrock, using Cassandra as the Vector Database."
      ]
    },
    {
      "cell_type": "markdown",
      "id": "761d9b70",
      "metadata": {},
      "source": [
        "Make sure you have a Database and get ready to upload the Secure Connect Bundle and supply the Token string\n",
        "(see [Pre-requisites](https://cassio.org/start_here/#vector-database) on cassio.org for details. Remember you need a **custom Token** with role [Database Administrator](https://awesome-astra.github.io/docs/pages/astra/create-token/)).\n",
        "\n",
        "Likewise, ensure you have the necessary secret for the LLM provider of your choice: you'll be asked to input it shortly\n",
        "(see [Pre-requisites](https://cassio.org/start_here/#llm-access) on cassio.org for details).\n",
        "\n"
      ]
    },
    {
      "cell_type": "code",
      "execution_count": 1,
      "id": "042f832e",
      "metadata": {},
      "outputs": [],
      "source": [
        "from cassandra.cluster import Cluster\n",
        "from cassandra.auth import PlainTextAuthProvider\n",
        "from langchain.embeddings import BedrockEmbeddings\n",
        "from langchain.vectorstores.cassandra import Cassandra\n",
        "from langchain.docstore.document import Document\n",
        "from langchain.prompts import PromptTemplate\n",
        "import boto3, json, os, sys\n",
        "from getpass import getpass\n",
        "from dotenv import load_dotenv\n",
        "from langchain.docstore.document import Document\n",
        "from langchain.document_loaders import TextLoader\n",
        "load_dotenv()\n"
      ]
    },
    {
      "cell_type": "code",
      "execution_count": null,
      "metadata": {},
      "outputs": [],
      "source": [
        "# Input your database keyspace name:\n",
        "ASTRA_DB_KEYSPACE = input('Your Astra DB Keyspace name (e.g. vector): ')"
      ]
    },
    {
      "cell_type": "markdown",
      "metadata": {
        "id": "QNQ6T_Gjk0Oz"
      },
      "source": [
        "### Astra DB Secure Connect Bundle\n",
        "\n",
        "Please upload the Secure Connect Bundle zipfile to connect to your Astra DB instance.\n",
        "\n",
        "The Secure Connect Bundle is needed to establish a secure connection to the database.\n",
        "Click [here](https://awesome-astra.github.io/docs/pages/astra/download-scb/#c-procedure) for instructions on how to download it from Astra DB."
      ]
    },
    {
      "cell_type": "code",
      "execution_count": null,
      "metadata": {},
      "outputs": [],
      "source": [
        "# Upload your Secure Connect Bundle zipfile:\n",
        "import os\n",
        "from google.colab import files\n",
        "\n",
        "\n",
        "print('Please upload your Secure Connect Bundle')\n",
        "uploaded = files.upload()\n",
        "if uploaded:\n",
        "    astraBundleFileTitle = list(uploaded.keys())[0]\n",
        "    ASTRA_DB_SECURE_BUNDLE_PATH = os.path.join(os.getcwd(), astraBundleFileTitle)\n",
        "else:\n",
        "    raise ValueError(\n",
        "        'Cannot proceed without Secure Connect Bundle. Please re-run the cell.'\n",
        "    )"
      ]
    },
    {
      "cell_type": "code",
      "execution_count": null,
      "metadata": {},
      "outputs": [],
      "source": [
        "# Input your Astra DB token string, the one starting with \"AstraCS:...\"\n",
        "from getpass import getpass\n",
        "ASTRA_DB_APPLICATION_TOKEN = getpass('Your Astra DB Token (\"AstraCS:...\"): ')"
      ]
    },
    {
      "cell_type": "code",
      "execution_count": null,
      "metadata": {},
      "outputs": [],
      "source": [
        "# colab-specific override of helper functions\n",
        "from cassandra.cluster import (\n",
        "    Cluster,\n",
        ")\n",
        "from cassandra.auth import PlainTextAuthProvider\n",
        "\n",
        "\n",
        "def getCQLSession(mode='astra_db'):\n",
        "    if mode == 'astra_db':\n",
        "        cluster = Cluster(\n",
        "            cloud={\n",
        "                \"secure_connect_bundle\": ASTRA_DB_SECURE_BUNDLE_PATH,\n",
        "            },\n",
        "            auth_provider=PlainTextAuthProvider(\n",
        "                \"token\",\n",
        "                ASTRA_DB_APPLICATION_TOKEN,\n",
        "            ),\n",
        "        )\n",
        "        astraSession = cluster.connect()\n",
        "        return astraSession\n",
        "    else:\n",
        "        raise ValueError('Unsupported CQL Session mode')\n",
        "\n",
        "def getCQLKeyspace(mode='astra_db'):\n",
        "    if mode == 'astra_db':\n",
        "        return ASTRA_DB_KEYSPACE\n",
        "    else:\n",
        "        raise ValueError('Unsupported CQL Session mode')"
      ]
    },
    {
      "cell_type": "code",
      "execution_count": null,
      "metadata": {},
      "outputs": [],
      "source": [
        "# Input your AWS Access Key ID\n",
        "AWS_ACCESS_KEY_ID = getpass('Your AWS Access Key ID: ')"
      ]
    },
    {
      "cell_type": "code",
      "execution_count": null,
      "metadata": {},
      "outputs": [],
      "source": [
        "# Input your AWS Secret Access Key\n",
        "AWS_SECRET_ACCESS_KEY = getpass('Your AWS Secret Access Key: ')"
      ]
    },
    {
      "cell_type": "code",
      "execution_count": null,
      "metadata": {},
      "outputs": [],
      "source": [
        "# Input your AWS Session Token\n",
        "AWS_SESSION_TOKEN = getpass('Your AWS Session Token: ')"
      ]
    },
    {
      "cell_type": "code",
      "execution_count": 2,
      "id": "11013224",
      "metadata": {},
      "outputs": [],
      "source": [
        "# creation of the DB connection\n",
        "cqlMode = 'astra_db'\n",
        "session = getCQLSession(mode=cqlMode)\n",
        "keyspace = getCQLKeyspace(mode=cqlMode)"
      ]
    },
    {
      "cell_type": "markdown",
      "id": "4388ac1d",
      "metadata": {},
      "source": [
        "The following lines set up the bedrock objects to use during the quickstart.\n"
      ]
    },
    {
      "cell_type": "code",
      "execution_count": 3,
      "id": "d65c46f0",
      "metadata": {},
      "outputs": [],
      "source": [
        "bedrock=boto3.client('bedrock','us-west-2',endpoint_url='https://invoke-bedrock.us-west-2.amazonaws.com')\n",
        "br_embeddings = BedrockEmbeddings(model_id=\"amazon.titan-embed-g1-text-02\", client=bedrock)\n"
      ]
    },
    {
      "cell_type": "markdown",
      "id": "29d9f48b",
      "metadata": {},
      "source": [
        "### Set up a vectorstore in Astra"
      ]
    },
    {
      "cell_type": "code",
      "id": "29d9f48c",
      "execution_count": 4,
      "metadata": {},
      "source": [
        "myCassandraVStore = Cassandra(\n",
        "embedding=br_embeddings,\n",
        "session=session,\n",
        "keyspace='vector',\n",
        "table_name='shakespeare_act5'\n",
        "\n"
      ]
    },
    {
      "cell_type": "code",
      "execution_count": null,
      "metadata": {},
      "outputs": [],
      "source": [
        "# retrieve the text of a scene from act 5 of Romeo and Astra.  The names were changed to prevent the LLM from \"cheating\" when providing an answer.\n",
        "! mkdir texts\n",
        "! curl https://raw.githubusercontent.com/synedra/astra_vector_examples/main/romeo_astra_act5.json --output texts/amontillado.json\n"
      ]
    },
    {
      "cell_type": "markdown",
      "id": "527a4697",
      "metadata": {},
      "source": [
        "quote_array = json.load(open('texts/romeo_astra.json')\n"
      ]
    },
    {
      "cell_type": "markdown",
      "id": "4cb6b732",
      "metadata": {},
      "source": [
        "Next, you'll populate the database with the lines from the play.  This can take a couple of minutes, please be patient."
      ]
    },
    {
      "cell_type": "code",
      "execution_count": 5,
      "id": "7bae5520",
      "metadata": {},
      "outputs": [],
      "source": [
        "for index in range(len(quote_array)):\n",
        "location = ''\n",
        "if (quote_array[index]['ActSceneLine'] != ''):\n",
        "    (act, scene, line) = quote_array[index]['ActSceneLine'].split('.')\n",
        "    location = 'Act {}, Scene {}, Line {}'.format(act, scene, line)\n",
        "quote_input = '{}\n{} : {}'.format(location, quote_array[index]['Player'], quote_array[index]['PlayerLine']\n",
        "input_document = Document(page_content=quote_input)\n",
        "print(quote_input)\n",
        "myCassandraVStore.add_documents(documents=[input_document])\n"
      ]
    },
    {
      "cell_type": "markdown",
      "id": "4cb6b732",
      "metadata": {},
      "source": [
        "Create the prompt template for the LLM query.  Give strong instructions about what you want the model to do."
      ]
    },
    {
      "cell_type": "code",
      "execution_count": 6,
      "id": "e4e816ee",
      "metadata": {},
      "source": [
        "generation_prompt_template = \"\"\"Please answer a question from a user.\n",
        "Remove any documents with potentially offensive content.\n",
        "Create a summary of the remaining information between ## to answer the question. \n",
        "Your task is to answer the question using only the summary using at least 20 and no more than 50 words. \n",
        "If the document does not contain the information needed to answer this question then simply write: Insufficient information.\n",
        "\n",
        "#\n",
        "{context}\n",
        "#\n",
        "\n",
        "question= {question}\n",
        "Answer:\"\"\"\n"
      ]
    }
  ],
  "metadata": {
    "kernelspec": {
      "display_name": "Python 3 (ipykernel)",
      "language": "python",
      "name": "python3"
    },
    "language_info": {
      "codemirror_mode": {
        "name": "ipython",
        "version": 3
      },
      "file_extension": ".py",
      "mimetype": "text/x-python",
      "name": "python",
      "nbconvert_exporter": "python",
      "pygments_lexer": "ipython3"
    }
  },
  "nbformat": 4,
  "nbformat_minor": 5
}
