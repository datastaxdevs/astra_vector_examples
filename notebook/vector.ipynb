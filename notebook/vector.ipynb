{
 "cells": [
  {
   "cell_type": "markdown",
   "id": "6715bc2b",
   "metadata": {},
   "source": [
    "# Using AstraPy with vector database\n",
    "\n",
    "Work with AstraPy"
   ]
  },
  {
   "cell_type": "markdown",
   "id": "761d9b70",
   "metadata": {},
   "source": [
    "Make sure you have a Database and get ready to upload the Secure Connect Bundle and supply the Token string\n",
    "(see [Pre-requisites](https://cassio.org/start_here/#vector-database) on cassio.org for details. Remember you need a **custom Token** with role [Database Administrator](https://awesome-astra.github.io/docs/pages/astra/create-token/))."
   ]
  },
  {
   "cell_type": "markdown",
   "id": "14da74b6",
   "metadata": {},
   "source": [
    "### Set up your python environment\n",
    "\n",
    "\n"
   ]
  },
  {
   "cell_type": "code",
   "execution_count": null,
   "id": "042f832e",
   "metadata": {},
   "outputs": [],
   "source": [
    "!curl -H 'Cache-Control: no-cache, no-store'  https://raw.githubusercontent.com/synedra/astra_vector_examples/main/notebook/astrapy.zip --output astrapy.zip\n",
    "%pip install astrapy.zip\n"
   ]
  },
  {
   "cell_type": "markdown",
   "id": "84026946",
   "metadata": {},
   "source": [
    "### Import needed libraries\n",
    "\n"
   ]
  },
  {
   "cell_type": "code",
   "execution_count": 2,
   "id": "5b15d1a4",
   "metadata": {},
   "outputs": [],
   "source": [
    "from astrapy.base import AstraClient, http_methods\n",
    "from astrapy.serverless import AstraJsonClient\n",
    "from astrapy.vector import AstraVectorClient\n",
    "from astrapy.ops import AstraOps\n",
    "import os\n",
    "\n",
    "\n"
   ]
  },
  {
   "cell_type": "markdown",
   "id": "485d5347",
   "metadata": {},
   "source": [
    "### Astra Setup\n",
    "\n"
   ]
  },
  {
   "cell_type": "markdown",
   "id": "6429f29a",
   "metadata": {
    "id": "QNQ6T_Gjk0Oz"
   },
   "source": [
    "### Astra Variables"
   ]
  },
  {
   "cell_type": "code",
   "execution_count": null,
   "id": "a394ab26",
   "metadata": {},
   "outputs": [],
   "source": [
    "# Input your database keyspace name:\n",
    "ASTRA_DB_ID = input('Your Astra DB id: ')"
   ]
  },
  {
   "cell_type": "code",
   "execution_count": null,
   "id": "c2296fea",
   "metadata": {},
   "outputs": [],
   "source": [
    "# Input your database keyspace name:\n",
    "ASTRA_DB_KEYSPACE = input('Your Astra DB Keyspace name (e.g. vector): ')"
   ]
  },
  {
   "cell_type": "code",
   "execution_count": null,
   "id": "6002dfc3",
   "metadata": {},
   "outputs": [],
   "source": [
    "# Input your Astra DB token string, the one starting with \"AstraCS:...\"\n",
    "from getpass import getpass\n",
    "ASTRA_DB_APPLICATION_TOKEN = getpass('Your Astra DB Token (\"AstraCS:...\"): ')"
   ]
  },
  {
   "cell_type": "code",
   "execution_count": null,
   "id": "fc4d681d",
   "metadata": {},
   "outputs": [],
   "source": [
    "# Input your Astra DB token string, the one starting with \"AstraCS:...\"\n",
    "from getpass import getpass\n",
    "ASTRA_DB_REGION = getpass('Your Astra DB Region: ')"
   ]
  },
  {
   "cell_type": "code",
   "execution_count": 2,
   "id": "11013224",
   "metadata": {},
   "outputs": [],
   "source": [
    "# Input your Astra DB token string, the one starting with \"AstraCS:...\"\n",
    "from getpass import getpass\n",
    "TEST_COLLECTION_NAME = getpass('Collection name for tutorial: (e.g. \"vector_test\") ')"
   ]
  },
  {
   "cell_type": "code",
   "execution_count": null,
   "id": "971edbec",
   "metadata": {},
   "outputs": [],
   "source": [
    "### Client setup\n",
    "astra_client = AstraClient(\n",
    "        astra_database_id=ASTRA_DB_ID,\n",
    "        astra_database_region=ASTRA_DB_REGION,\n",
    "        astra_application_token=ASTRA_DB_APPLICATION_TOKEN,\n",
    "    )\n",
    "\n",
    "vector_client = AstraVectorClient(astra_client=astra_client)\n",
    "test_namespace = vector_client.namespace(ASTRA_DB_KEYSPACE)\n",
    "test_collection = vector_client.namespace(ASTRA_DB_KEYSPACE).collection(TEST_COLLECTION_NAME)"
   ]
  },
  {
   "cell_type": "markdown",
   "id": "501df1e6",
   "metadata": {},
   "source": [
    "# Create and view collections"
   ]
  },
  {
   "cell_type": "code",
   "execution_count": null,
   "id": "1ea28d70",
   "metadata": {},
   "outputs": [],
   "source": [
    "res = test_namespace.create_vector_collection(name=TEST_COLLECTION_NAME, size=5)\n",
    "res = test_namespace.get_collections()\n",
    "print(res)"
   ]
  },
  {
   "cell_type": "markdown",
   "id": "6b012402",
   "metadata": {},
   "source": [
    "# Insert one document"
   ]
  },
  {
   "cell_type": "code",
   "execution_count": null,
   "id": "c29a6f70",
   "metadata": {},
   "outputs": [],
   "source": [
    "json_query = {\n",
    "        \"_id\": \"4\",\n",
    "        \"name\": \"Coded Cleats Copy\",\n",
    "        \"description\": \"ChatGPT integrated sneakers that talk to you\",\n",
    "        \"$vector\": [0.25, 0.25, 0.25, 0.25, 0.25],\n",
    "    }\n",
    "\n",
    "res = test_collection.create(document=json_query)\n",
    "print(res)"
   ]
  },
  {
   "cell_type": "markdown",
   "id": "fe944cf0",
   "metadata": {},
   "source": [
    "# Insert multiple documents"
   ]
  },
  {
   "cell_type": "code",
   "execution_count": null,
   "id": "c9b5c026",
   "metadata": {},
   "outputs": [],
   "source": [
    "json_query = [\n",
    "        {\n",
    "            \"_id\": \"1\",\n",
    "            \"name\": \"Coded Cleats\",\n",
    "            \"description\": \"ChatGPT integrated sneakers that talk to you\",\n",
    "            \"$vector\": [0.1, 0.15, 0.3, 0.12, 0.05],\n",
    "        },\n",
    "        {\n",
    "            \"_id\": \"2\",\n",
    "            \"name\": \"Logic Layers\",\n",
    "            \"description\": \"An AI quilt to help you sleep forever\",\n",
    "            \"$vector\": [0.45, 0.09, 0.01, 0.2, 0.11],\n",
    "        },\n",
    "        {\n",
    "            \"_id\": \"3\",\n",
    "            \"name\": \"Vision Vector Frame\",\n",
    "            \"description\": \"Vision Vector Frame - A deep learning display that controls your mood\",\n",
    "            \"$vector\": [0.1, 0.05, 0.08, 0.3, 0.6],\n",
    "        },\n",
    "    ]\n",
    "\n",
    "res = test_collection.insert_many(documents=json_query)\n",
    "print(res)"
   ]
  }
 ],
 "metadata": {
  "kernelspec": {
   "display_name": "venv",
   "language": "python",
   "name": "venv"
  },
  "language_info": {
   "codemirror_mode": {
    "name": "ipython",
    "version": 3
   },
   "file_extension": ".py",
   "mimetype": "text/x-python",
   "name": "python",
   "nbconvert_exporter": "python",
   "pygments_lexer": "ipython3",
   "version": "3.10.11"
  }
 },
 "nbformat": 4,
 "nbformat_minor": 5
}
