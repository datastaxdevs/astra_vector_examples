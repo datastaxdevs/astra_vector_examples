{
 "cells": [
  {
   "cell_type": "markdown",
   "id": "6715bc2b",
   "metadata": {},
   "source": [
    "# Using AstraPy with vector database\n",
    "\n",
    "Work with AstraPy"
   ]
  },
  {
   "cell_type": "markdown",
   "id": "761d9b70",
   "metadata": {},
   "source": [
    "Make sure you have a Database and get ready to supply the Token string\n",
    "(see [Pre-requisites](https://cassio.org/start_here/#vector-database) on cassio.org for details. Remember you need a **custom Token** with role [Database Administrator](https://awesome-astra.github.io/docs/pages/astra/create-token/))."
   ]
  },
  {
   "cell_type": "markdown",
   "id": "14da74b6",
   "metadata": {},
   "source": [
    "### Set up your python environment\n",
    "\n",
    "\n"
   ]
  },
  {
   "cell_type": "code",
   "execution_count": 1,
   "id": "042f832e",
   "metadata": {},
   "outputs": [
    {
     "name": "stdout",
     "output_type": "stream",
     "text": [
      "Requirement already satisfied: astrapy in /Users/kirstenhunter/.venv/lib/python3.10/site-packages (0.5.3)\n",
      "Requirement already satisfied: faker~=19.11.0 in /Users/kirstenhunter/.venv/lib/python3.10/site-packages (from astrapy) (19.11.1)\n",
      "Requirement already satisfied: pytest~=7.4.2 in /Users/kirstenhunter/.venv/lib/python3.10/site-packages (from astrapy) (7.4.3)\n",
      "Requirement already satisfied: pytest-cov~=4.1.0 in /Users/kirstenhunter/.venv/lib/python3.10/site-packages (from astrapy) (4.1.0)\n",
      "Requirement already satisfied: pytest-testdox~=3.1.0 in /Users/kirstenhunter/.venv/lib/python3.10/site-packages (from astrapy) (3.1.0)\n",
      "Requirement already satisfied: requests~=2.31.0 in /Users/kirstenhunter/.venv/lib/python3.10/site-packages (from astrapy) (2.31.0)\n",
      "Requirement already satisfied: requests-toolbelt~=1.0.0 in /Users/kirstenhunter/.venv/lib/python3.10/site-packages (from astrapy) (1.0.0)\n",
      "Requirement already satisfied: python-dotenv~=1.0.0 in /Users/kirstenhunter/.venv/lib/python3.10/site-packages (from astrapy) (1.0.0)\n",
      "Requirement already satisfied: pre-commit~=3.5.0 in /Users/kirstenhunter/.venv/lib/python3.10/site-packages (from astrapy) (3.5.0)\n",
      "Requirement already satisfied: cassio~=0.1.3 in /Users/kirstenhunter/.venv/lib/python3.10/site-packages (from astrapy) (0.1.3)\n",
      "Requirement already satisfied: cassandra-driver>=3.28.0 in /Users/kirstenhunter/.venv/lib/python3.10/site-packages (from cassio~=0.1.3->astrapy) (3.28.0)\n",
      "Requirement already satisfied: numpy>=1.0 in /Users/kirstenhunter/.venv/lib/python3.10/site-packages (from cassio~=0.1.3->astrapy) (1.23.5)\n",
      "Requirement already satisfied: python-dateutil>=2.4 in /Users/kirstenhunter/.venv/lib/python3.10/site-packages (from faker~=19.11.0->astrapy) (2.8.2)\n",
      "Requirement already satisfied: cfgv>=2.0.0 in /Users/kirstenhunter/.venv/lib/python3.10/site-packages (from pre-commit~=3.5.0->astrapy) (3.4.0)\n",
      "Requirement already satisfied: identify>=1.0.0 in /Users/kirstenhunter/.venv/lib/python3.10/site-packages (from pre-commit~=3.5.0->astrapy) (2.5.31)\n",
      "Requirement already satisfied: nodeenv>=0.11.1 in /Users/kirstenhunter/.venv/lib/python3.10/site-packages (from pre-commit~=3.5.0->astrapy) (1.8.0)\n",
      "Requirement already satisfied: pyyaml>=5.1 in /Users/kirstenhunter/.venv/lib/python3.10/site-packages (from pre-commit~=3.5.0->astrapy) (6.0.1)\n",
      "Requirement already satisfied: virtualenv>=20.10.0 in /Users/kirstenhunter/.venv/lib/python3.10/site-packages (from pre-commit~=3.5.0->astrapy) (20.24.6)\n",
      "Requirement already satisfied: iniconfig in /Users/kirstenhunter/.venv/lib/python3.10/site-packages (from pytest~=7.4.2->astrapy) (2.0.0)\n",
      "Requirement already satisfied: packaging in /Users/kirstenhunter/.venv/lib/python3.10/site-packages (from pytest~=7.4.2->astrapy) (23.1)\n",
      "Requirement already satisfied: pluggy<2.0,>=0.12 in /Users/kirstenhunter/.venv/lib/python3.10/site-packages (from pytest~=7.4.2->astrapy) (1.2.0)\n",
      "Requirement already satisfied: exceptiongroup>=1.0.0rc8 in /Users/kirstenhunter/.venv/lib/python3.10/site-packages (from pytest~=7.4.2->astrapy) (1.1.2)\n",
      "Requirement already satisfied: tomli>=1.0.0 in /Users/kirstenhunter/.venv/lib/python3.10/site-packages (from pytest~=7.4.2->astrapy) (2.0.1)\n",
      "Requirement already satisfied: coverage[toml]>=5.2.1 in /Users/kirstenhunter/.venv/lib/python3.10/site-packages (from pytest-cov~=4.1.0->astrapy) (7.3.2)\n",
      "Requirement already satisfied: charset-normalizer<4,>=2 in /Users/kirstenhunter/.venv/lib/python3.10/site-packages (from requests~=2.31.0->astrapy) (3.2.0)\n",
      "Requirement already satisfied: idna<4,>=2.5 in /Users/kirstenhunter/.venv/lib/python3.10/site-packages (from requests~=2.31.0->astrapy) (3.4)\n",
      "Requirement already satisfied: urllib3<3,>=1.21.1 in /Users/kirstenhunter/.venv/lib/python3.10/site-packages (from requests~=2.31.0->astrapy) (1.26.16)\n",
      "Requirement already satisfied: certifi>=2017.4.17 in /Users/kirstenhunter/.venv/lib/python3.10/site-packages (from requests~=2.31.0->astrapy) (2023.7.22)\n",
      "Requirement already satisfied: six>=1.9 in /Users/kirstenhunter/.venv/lib/python3.10/site-packages (from cassandra-driver>=3.28.0->cassio~=0.1.3->astrapy) (1.16.0)\n",
      "Requirement already satisfied: geomet<0.3,>=0.1 in /Users/kirstenhunter/.venv/lib/python3.10/site-packages (from cassandra-driver>=3.28.0->cassio~=0.1.3->astrapy) (0.2.1.post1)\n",
      "Requirement already satisfied: setuptools in /Users/kirstenhunter/.venv/lib/python3.10/site-packages (from nodeenv>=0.11.1->pre-commit~=3.5.0->astrapy) (65.5.0)\n",
      "Requirement already satisfied: distlib<1,>=0.3.7 in /Users/kirstenhunter/.venv/lib/python3.10/site-packages (from virtualenv>=20.10.0->pre-commit~=3.5.0->astrapy) (0.3.7)\n",
      "Requirement already satisfied: filelock<4,>=3.12.2 in /Users/kirstenhunter/.venv/lib/python3.10/site-packages (from virtualenv>=20.10.0->pre-commit~=3.5.0->astrapy) (3.12.2)\n",
      "Requirement already satisfied: platformdirs<4,>=3.9.1 in /Users/kirstenhunter/.venv/lib/python3.10/site-packages (from virtualenv>=20.10.0->pre-commit~=3.5.0->astrapy) (3.9.1)\n",
      "Requirement already satisfied: click in /Users/kirstenhunter/.venv/lib/python3.10/site-packages (from geomet<0.3,>=0.1->cassandra-driver>=3.28.0->cassio~=0.1.3->astrapy) (8.1.6)\n",
      "\n",
      "\u001b[1m[\u001b[0m\u001b[34;49mnotice\u001b[0m\u001b[1;39;49m]\u001b[0m\u001b[39;49m A new release of pip is available: \u001b[0m\u001b[31;49m23.2.1\u001b[0m\u001b[39;49m -> \u001b[0m\u001b[32;49m23.3.1\u001b[0m\n",
      "\u001b[1m[\u001b[0m\u001b[34;49mnotice\u001b[0m\u001b[1;39;49m]\u001b[0m\u001b[39;49m To update, run: \u001b[0m\u001b[32;49mpip install --upgrade pip\u001b[0m\n",
      "Note: you may need to restart the kernel to use updated packages.\n"
     ]
    }
   ],
   "source": [
    "%pip install astrapy --upgrade"
   ]
  },
  {
   "cell_type": "markdown",
   "id": "84026946",
   "metadata": {},
   "source": [
    "### Import needed libraries\n",
    "\n"
   ]
  },
  {
   "cell_type": "code",
   "execution_count": null,
   "id": "5b15d1a4",
   "metadata": {},
   "outputs": [],
   "source": [
    "from astrapy.db import AstraDB\n",
    "from astrapy.defaults import DEFAULT_KEYSPACE_NAME, DEFAULT_REGION\n",
    "\n",
    "ASTRA_DB_REGION = DEFAULT_REGION\n",
    "ASTRA_DB_KEYSPACE = DEFAULT_KEYSPACE_NAME\n",
    "ASTRA_DB_BASE_URL = \"apps.astra.datastax.com\"\n",
    "\n",
    "import os, json\n",
    "import uuid"
   ]
  },
  {
   "cell_type": "markdown",
   "id": "485d5347",
   "metadata": {},
   "source": [
    "### Astra Setup\n",
    "\n"
   ]
  },
  {
   "cell_type": "markdown",
   "id": "6429f29a",
   "metadata": {
    "id": "QNQ6T_Gjk0Oz"
   },
   "source": [
    "### Astra Variables"
   ]
  },
  {
   "cell_type": "code",
   "execution_count": null,
   "id": "873ee343",
   "metadata": {},
   "outputs": [],
   "source": [
    "# Input your Astra DB token string, the one starting with \"AstraCS:...\"\n",
    "from getpass import getpass\n",
    "ASTRA_DB_APPLICATION_TOKEN = getpass('Your Astra DB Token (\"AstraCS:...\"): ')"
   ]
  },
  {
   "cell_type": "code",
   "execution_count": null,
   "id": "c8cc746c",
   "metadata": {},
   "outputs": [],
   "source": [
    "# Input your Astra DB identifier\"\n",
    "ASTRA_DB_ID = input('Your Astra DB ID: ')"
   ]
  },
  {
   "cell_type": "code",
   "execution_count": null,
   "id": "971edbec",
   "metadata": {},
   "outputs": [],
   "source": [
    "### Client setup\n",
    "astra_db = AstraDB(\n",
    "        api_endpoint=f\"https://{ASTRA_DB_ID}-{ASTRA_DB_REGION}.{ASTRA_DB_BASE_URL}\",\n",
    "        namespace=ASTRA_DB_KEYSPACE,\n",
    "        token=ASTRA_DB_APPLICATION_TOKEN,\n",
    "    )\n",
    "\n"
   ]
  },
  {
   "cell_type": "code",
   "execution_count": null,
   "id": "9402cc33-3456-43a0-9f30-8c9d65309370",
   "metadata": {},
   "outputs": [],
   "source": [
    "# Create and view collections"
   ]
  },
  {
   "cell_type": "code",
   "execution_count": null,
   "id": "1ea28d70",
   "metadata": {},
   "outputs": [],
   "source": [
    "# Just in case it already exists, delete it\n",
    "res = astra_db.delete_collection(collection_name=\"test_collection\")\n",
    "print(res)\n",
    "\n",
    "# Now create the collection afresh\n",
    "res = astra_db.create_collection(collection_name=\"test_collection\", dimension=5)\n",
    "collection = astra_db.collection(collection_name=\"test_collection\")\n",
    "print(res)\n",
    "\n",
    "res = astra_db.get_collections()\n",
    "print(res)"
   ]
  },
  {
   "cell_type": "markdown",
   "id": "6b012402",
   "metadata": {},
   "source": [
    "# Insert one document"
   ]
  },
  {
   "cell_type": "code",
   "execution_count": null,
   "id": "c29a6f70",
   "metadata": {},
   "outputs": [],
   "source": [
    "# Insert into vector collection\n",
    "json_query = {\n",
    "        \"_id\": \"4\",\n",
    "        \"name\": \"Coded Cleats Copy\",\n",
    "        \"description\": \"ChatGPT integrated sneakers that talk to you\",\n",
    "        \"$vector\": [0.25, 0.25, 0.25, 0.25, 0.25],\n",
    "    }\n",
    "\n",
    "res = collection.insert_one(document=json_query)\n",
    "print(res)"
   ]
  },
  {
   "cell_type": "code",
   "execution_count": null,
   "id": "6ea478ba",
   "metadata": {},
   "outputs": [],
   "source": [
    "# Insert non-vector document\n",
    "\n",
    "json_query = {\n",
    "        \"_id\": \"Cliff1\",\n",
    "        \"first_name\": \"Cliff\",\n",
    "        \"last_name\": \"Wicklow\",\n",
    "    }\n",
    "response = collection.insert_one(document=json_query)\n",
    "print(response)\n"
   ]
  },
  {
   "cell_type": "markdown",
   "id": "fe944cf0",
   "metadata": {},
   "source": [
    "# Insert multiple documents"
   ]
  },
  {
   "cell_type": "code",
   "execution_count": null,
   "id": "c9b5c026",
   "metadata": {},
   "outputs": [],
   "source": [
    "json_query = [\n",
    "        {\n",
    "            \"_id\": \"1\",\n",
    "            \"name\": \"Coded Cleats\",\n",
    "            \"description\": \"ChatGPT integrated sneakers that talk to you\",\n",
    "            \"$vector\": [0.1, 0.15, 0.3, 0.12, 0.05],\n",
    "        },\n",
    "        {\n",
    "            \"_id\": \"2\",\n",
    "            \"name\": \"Logic Layers\",\n",
    "            \"description\": \"An AI quilt to help you sleep forever\",\n",
    "            \"$vector\": [0.45, 0.09, 0.01, 0.2, 0.11],\n",
    "        },\n",
    "        {\n",
    "            \"_id\": \"3\",\n",
    "            \"name\": \"Vision Vector Frame\",\n",
    "            \"description\": \"Vision Vector Frame - A deep learning display that controls your mood\",\n",
    "            \"$vector\": [0.1, 0.05, 0.08, 0.3, 0.6],\n",
    "        },\n",
    "    ]\n",
    "\n",
    "res = collection.insert_many(\n",
    "        documents=json_query,\n",
    "        options={\"ordered\": False},\n",
    "        partial_failures_allowed=True,\n",
    "    )\n",
    "print (res)"
   ]
  },
  {
   "cell_type": "markdown",
   "id": "c13cfc42",
   "metadata": {},
   "source": [
    "# Find documents"
   ]
  },
  {
   "cell_type": "markdown",
   "id": "5b71cc06",
   "metadata": {},
   "source": [
    "## Find a document"
   ]
  },
  {
   "cell_type": "code",
   "execution_count": null,
   "id": "f312b0ab",
   "metadata": {},
   "outputs": [],
   "source": [
    "document = collection.find_one(filter={\"_id\":\"4\"})\n",
    "print(document)"
   ]
  },
  {
   "cell_type": "markdown",
   "id": "08302258",
   "metadata": {},
   "source": [
    "## Find documents using vector search"
   ]
  },
  {
   "cell_type": "code",
   "execution_count": null,
   "id": "a8a3c1a8",
   "metadata": {},
   "outputs": [],
   "source": [
    "sort = {\"$vector\": [0.15, 0.1, 0.1, 0.35, 0.55]}\n",
    "options = {\"limit\": 100}\n",
    "\n",
    "document = collection.find(sort=sort, options=options)\n",
    "print(document)"
   ]
  },
  {
   "cell_type": "markdown",
   "id": "8777dbb3",
   "metadata": {},
   "source": [
    "## Find documents using vector search and projection"
   ]
  },
  {
   "cell_type": "code",
   "execution_count": null,
   "id": "69083ccb",
   "metadata": {},
   "outputs": [],
   "source": [
    "sort = {\"$vector\": [0.15, 0.1, 0.1, 0.35, 0.55]}\n",
    "options = {\"limit\": 100}\n",
    "projection = {\"$vector\": 1, \"$similarity\": 1}\n",
    "\n",
    "document = collection.find(sort=sort, options=options, projection=projection)\n",
    "print(document)\n",
    "\n",
    "\n"
   ]
  },
  {
   "cell_type": "markdown",
   "id": "c35151b8",
   "metadata": {},
   "source": [
    "## Find one document using vector search and projection"
   ]
  },
  {
   "cell_type": "code",
   "execution_count": null,
   "id": "87278dda",
   "metadata": {},
   "outputs": [],
   "source": [
    "sort = {\"$vector\": [0.15, 0.1, 0.1, 0.35, 0.55]}\n",
    "projection = {\"$vector\": 1}\n",
    "\n",
    "document = collection.find_one(sort=sort, options={}, projection=projection)\n",
    "print(document)\n",
    "    "
   ]
  },
  {
   "cell_type": "markdown",
   "id": "f04a1806",
   "metadata": {},
   "source": [
    "## Find one and update with vector search"
   ]
  },
  {
   "cell_type": "code",
   "execution_count": null,
   "id": "e710c0b4",
   "metadata": {},
   "outputs": [],
   "source": [
    "sort = {\"$vector\": [0.15, 0.1, 0.1, 0.35, 0.55]}\n",
    "update = {\"$set\": {\"status\": \"active\"}}\n",
    "options = {\"returnDocument\": \"after\"}\n",
    "\n",
    "collection.find_one_and_update(sort=sort, update=update, options=options)\n",
    "document = collection.find_one(filter={\"status\": \"active\"})\n",
    "print(document)\n",
    " "
   ]
  },
  {
   "cell_type": "markdown",
   "id": "22966c97",
   "metadata": {},
   "source": [
    "## Find one and replace with vector search"
   ]
  },
  {
   "cell_type": "code",
   "execution_count": null,
   "id": "779e7f4d",
   "metadata": {},
   "outputs": [],
   "source": [
    "sort = {\"$vector\": [0.15, 0.1, 0.1, 0.35, 0.55]}\n",
    "replacement = {\n",
    "        \"_id\": \"3\",\n",
    "        \"name\": \"Vision Vector Frame\",\n",
    "        \"description\": \"Vision Vector Frame - A deep learning display that controls your mood\",\n",
    "        \"$vector\": [0.1, 0.05, 0.08, 0.3, 0.6],\n",
    "        \"status\": \"inactive\",\n",
    "}\n",
    "options = {\"returnDocument\": \"after\"}\n",
    "\n",
    "collection.find_one_and_replace(sort=sort, replacement=replacement, options=options)\n",
    "document = collection.find_one(filter={\"name\": \"Vision Vector Frame\"})\n",
    "print(document)\n",
    "    "
   ]
  },
  {
   "cell_type": "markdown",
   "id": "4db9bca8",
   "metadata": {},
   "source": [
    "## Delete a collection"
   ]
  },
  {
   "cell_type": "markdown",
   "id": "0cf458b8",
   "metadata": {},
   "source": []
  },
  {
   "cell_type": "code",
   "execution_count": null,
   "id": "0d47a986",
   "metadata": {},
   "outputs": [],
   "source": [
    "returnval = astra_db.delete_collection(collection_name=\"test_collection\")\n",
    "print(returnval)"
   ]
  },
  {
   "cell_type": "markdown",
   "id": "a749a7f3",
   "metadata": {},
   "source": []
  },
  {
   "cell_type": "markdown",
   "id": "f557f068",
   "metadata": {},
   "source": []
  }
 ],
 "metadata": {
  "kernelspec": {
   "display_name": "Python 3 (ipykernel)",
   "language": "python",
   "name": "python3"
  },
  "language_info": {
   "codemirror_mode": {
    "name": "ipython",
    "version": 3
   },
   "file_extension": ".py",
   "mimetype": "text/x-python",
   "name": "python",
   "nbconvert_exporter": "python",
   "pygments_lexer": "ipython3",
   "version": "3.10.11"
  }
 },
 "nbformat": 4,
 "nbformat_minor": 5
}
