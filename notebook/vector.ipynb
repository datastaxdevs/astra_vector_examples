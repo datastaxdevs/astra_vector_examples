{
 "cells": [
  {
   "cell_type": "markdown",
   "id": "6715bc2b",
   "metadata": {},
   "source": [
    "# Astra DB Serverless, Python Quickstart"
   ]
  },
  {
   "cell_type": "markdown",
   "id": "9f6e9609-7293-4d46-a63a-5e0986581d70",
   "metadata": {},
   "source": [
    "Learn how to create a [Serverless (Vector) database](https://docs.datastax.com/en/astra-db-serverless/get-started/astra-db-introduction.html), connect to your database, load a set of vector embeddings, and perform a similarity search to find vectors that are close to the one in your query."
   ]
  },
  {
   "cell_type": "markdown",
   "id": "db71a274-89b6-4b44-acda-f905247dce5b",
   "metadata": {},
   "source": [
    "## Prerequisites\n",
    "\n",
    "To run this notebook, you need an Astra DB \"Serverless (Vector) database\" and the connection parameters to access it:\n",
    "\n",
    "- the *Application Token* (a string starting with `AstraCS:...`)\n",
    "- the *API Endpoint* (example: `https://01234567-89ab-cdef-0123-456789abcdef-us-east1.apps.astra.datastax.com`)\n",
    "\n",
    "Please consult the [documentation page for this quickstart](https://docs.datastax.com/en/astra-db-serverless/get-started/quickstart.html#create-a-serverless-vector-database) for more details on the above requirements."
   ]
  },
  {
   "cell_type": "markdown",
   "id": "14da74b6",
   "metadata": {},
   "source": [
    "## Install the client"
   ]
  },
  {
   "cell_type": "code",
   "execution_count": null,
   "id": "042f832e",
   "metadata": {},
   "outputs": [],
   "source": [
    "!pip install --quiet --upgrade astrapy"
   ]
  },
  {
   "cell_type": "markdown",
   "id": "84026946",
   "metadata": {},
   "source": [
    "## Import needed libraries"
   ]
  },
  {
   "cell_type": "code",
   "execution_count": null,
   "id": "5b15d1a4",
   "metadata": {},
   "outputs": [],
   "source": [
    "import json\n",
    "import os\n",
    "from getpass import getpass\n",
    "\n",
    "from astrapy import DataAPIClient\n",
    "from astrapy.constants import VectorMetric\n",
    "from astrapy.ids import UUID\n",
    "from astrapy.exceptions import InsertManyException"
   ]
  },
  {
   "cell_type": "markdown",
   "id": "968c5070-24a1-4cf3-a923-2478ceaa2e37",
   "metadata": {},
   "source": [
    "## Provide database credentials"
   ]
  },
  {
   "cell_type": "code",
   "execution_count": null,
   "id": "0c9a7b18-e7a8-466e-8785-2becc94017fb",
   "metadata": {},
   "outputs": [],
   "source": [
    "os.environ[\"ASTRA_DB_APPLICATION_TOKEN\"] = getpass(\"ASTRA_DB_APPLICATION_TOKEN = \")\n",
    "os.environ[\"ASTRA_DB_API_ENDPOINT\"] = input(\"ASTRA_DB_API_ENDPOINT = \")"
   ]
  },
  {
   "cell_type": "markdown",
   "id": "485d5347",
   "metadata": {},
   "source": [
    "## Work with your data"
   ]
  },
  {
   "cell_type": "markdown",
   "id": "6429f29a",
   "metadata": {
    "id": "QNQ6T_Gjk0Oz"
   },
   "source": [
    "### Connect to the database\n",
    "\n",
    "Initialize the client and get a \"Database\" object"
   ]
  },
  {
   "cell_type": "code",
   "execution_count": null,
   "id": "4650320d-803b-4b3b-b08a-19fb985ba52e",
   "metadata": {},
   "outputs": [],
   "source": [
    "client = DataAPIClient(os.environ[\"ASTRA_DB_APPLICATION_TOKEN\"])\n",
    "database = client.get_database(os.environ[\"ASTRA_DB_API_ENDPOINT\"])\n",
    "print(f\"* Database: {database.info().name}\\n\")"
   ]
  },
  {
   "cell_type": "markdown",
   "id": "d4ce9036-654b-4f87-9a1f-07f9a1739672",
   "metadata": {},
   "source": [
    "### Create a collection\n",
    "\n",
    "Create a collection. The default similarity metric is cosine.\n",
    "\n",
    "Choose dimensions that match your vector data.\n",
    "\n",
    "If you're not sure, use the vector dimension that your embeddings model produces."
   ]
  },
  {
   "cell_type": "code",
   "execution_count": null,
   "id": "4d2407cb-aacc-4779-995d-7a417f4058ed",
   "metadata": {},
   "outputs": [],
   "source": [
    "collection = database.create_collection(\n",
    "    \"vector_test\",\n",
    "    dimension=5,\n",
    "    metric=VectorMetric.COSINE,  # Or just 'cosine'.\n",
    "    check_exists=False, # Optional\n",
    ")\n",
    "print(f\"* Collection: {collection.full_name}\\n\")"
   ]
  },
  {
   "cell_type": "markdown",
   "id": "269f5ecf-b3bd-4a09-9ef3-5386c1806ba6",
   "metadata": {},
   "source": [
    "### Insert documents with embeddings\n",
    "\n",
    "Insert documents with embeddings into the collection.\n",
    "\n",
    "UUIDs are version 7."
   ]
  },
  {
   "cell_type": "code",
   "execution_count": null,
   "id": "1a229dd9-e36d-44f0-bd0a-e8d6c0a4a446",
   "metadata": {},
   "outputs": [],
   "source": [
    "documents = [\n",
    "    {\n",
    "        \"_id\": UUID(\"018e65c9-df45-7913-89f8-175f28bd7f74\"),\n",
    "        \"text\": \"Chat bot integrated sneakers that talk to you\",\n",
    "        \"$vector\": [0.1, 0.15, 0.3, 0.12, 0.05],\n",
    "    },\n",
    "    {\n",
    "        \"_id\": UUID(\"018e65c9-e1b7-7048-a593-db452be1e4c2\"),\n",
    "        \"text\": \"An AI quilt to help you sleep forever\",\n",
    "        \"$vector\": [0.45, 0.09, 0.01, 0.2, 0.11],\n",
    "    },\n",
    "    {\n",
    "        \"_id\": UUID(\"018e65c9-e33d-749b-9386-e848739582f0\"),\n",
    "        \"text\": \"A deep learning display that controls your mood\",\n",
    "        \"$vector\": [0.1, 0.05, 0.08, 0.3, 0.6],\n",
    "    },\n",
    "]"
   ]
  },
  {
   "cell_type": "code",
   "execution_count": null,
   "id": "23018948-fb77-4b57-b1ad-6e6202d52121",
   "metadata": {},
   "outputs": [],
   "source": [
    "try:\n",
    "    insertion_result = collection.insert_many(documents)\n",
    "    print(f\"* Inserted {len(insertion_result.inserted_ids)} items.\\n\")\n",
    "except InsertManyException:\n",
    "    print(\"* Documents found on DB already. Let's move on.\\n\")"
   ]
  },
  {
   "cell_type": "markdown",
   "id": "c61933c9-de15-49fe-ab6f-f7032e91e87b",
   "metadata": {},
   "source": [
    "### Perform a similarity search"
   ]
  },
  {
   "cell_type": "code",
   "execution_count": null,
   "id": "837d26d3-2d8b-43aa-ab34-80ae00889fc3",
   "metadata": {},
   "outputs": [],
   "source": [
    "query_vector = [0.15, 0.1, 0.1, 0.35, 0.55]\n",
    "results = collection.find(\n",
    "    sort={\"$vector\": query_vector},\n",
    "    limit=10,\n",
    ")\n",
    "print(\"Vector search results:\")\n",
    "for document in results:\n",
    "    print(\"    \", document)"
   ]
  },
  {
   "cell_type": "markdown",
   "id": "52a463b9-6275-435e-bc28-168b368cac73",
   "metadata": {},
   "source": [
    "## (optional) Cleanup"
   ]
  },
  {
   "cell_type": "code",
   "execution_count": null,
   "id": "421793cb-2bbc-4c48-b293-b8c9de49b10b",
   "metadata": {},
   "outputs": [],
   "source": [
    "drop_result = collection.drop()\n",
    "print(drop_result)"
   ]
  },
  {
   "cell_type": "markdown",
   "id": "3dff074a-9f7f-4bc6-b1b8-bfa5b8216813",
   "metadata": {},
   "source": [
    "## Conclusion\n",
    "\n",
    "This has just scratched the surface of what you can do.\n",
    "\n",
    "To find out how easy it is to build your GenAI application with Astra DB, take a look at [the documentation](https://docs.datastax.com/en/astra-db-serverless/index.html)."
   ]
  }
 ],
 "metadata": {
  "kernelspec": {
   "display_name": "Python 3 (ipykernel)",
   "language": "python",
   "name": "python3"
  },
  "language_info": {
   "codemirror_mode": {
    "name": "ipython",
    "version": 3
   },
   "file_extension": ".py",
   "mimetype": "text/x-python",
   "name": "python",
   "nbconvert_exporter": "python",
   "pygments_lexer": "ipython3",
   "version": "3.10.14"
  }
 },
 "nbformat": 4,
 "nbformat_minor": 5
}
