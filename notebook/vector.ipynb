{
 "cells": [
  {
   "cell_type": "markdown",
   "id": "6715bc2b",
   "metadata": {},
   "source": [
    "# Using AstraPy with vector database\n",
    "\n",
    "Work with AstraPy"
   ]
  },
  {
   "cell_type": "markdown",
   "id": "761d9b70",
   "metadata": {},
   "source": [
    "Make sure you have a Database and get ready to supply the Token string\n",
    "([Read about astra setup](https://docs.datastax.com/en/astra/home/astra.html) for details. Remember you need a **custom Token** with role [Database Administrator](https://awesome-astra.github.io/docs/pages/astra/create-token/)).\n",
    "\n",
    "Example values:\n",
    "\n",
    "- API Endpoint: https://01234567-89ab-cdef-0123-456789abcdef-us-east1.apps.astra.datastax.com\n",
    "- Token: AstraCS:6gBhNmsk135.... (it must have a role of at least \"Database Administrator\")"
   ]
  },
  {
   "cell_type": "markdown",
   "id": "14da74b6",
   "metadata": {},
   "source": [
    "### Set up your python environment\n",
    "\n",
    "\n"
   ]
  },
  {
   "cell_type": "code",
   "execution_count": null,
   "id": "042f832e",
   "metadata": {},
   "outputs": [],
   "source": [
    "%pip install astrapy --quiet"
   ]
  },
  {
   "cell_type": "markdown",
   "id": "84026946",
   "metadata": {},
   "source": [
    "### Import needed libraries\n",
    "\n"
   ]
  },
  {
   "cell_type": "code",
   "execution_count": null,
   "id": "5b15d1a4",
   "metadata": {},
   "outputs": [],
   "source": [
    "import os, json\n",
    "import uuid\n",
    "from getpass import getpass\n",
    "\n",
    "from astrapy.db import AstraDB\n",
    "\n",
    "ASTRA_DB_API_ENDPOINT = input(\"ASTRA_DB_API_ENDPOINT = \")\n",
    "ASTRA_DB_APPLICATION_TOKEN = getpass(\"ASTRA_DB_APPLICATION_TOKEN = \")\n"
   ]
  },
  {
   "cell_type": "markdown",
   "id": "485d5347",
   "metadata": {},
   "source": [
    "### Astra Setup\n",
    "\n"
   ]
  },
  {
   "cell_type": "markdown",
   "id": "6429f29a",
   "metadata": {
    "id": "QNQ6T_Gjk0Oz"
   },
   "source": [
    "### Astra Variables"
   ]
  },
  {
   "cell_type": "code",
   "execution_count": null,
   "id": "971edbec",
   "metadata": {},
   "outputs": [],
   "source": [
    "### Client setup\n",
    "astra_db = AstraDB(\n",
    "    api_endpoint=ASTRA_DB_API_ENDPOINT,\n",
    "    token=ASTRA_DB_APPLICATION_TOKEN,\n",
    ")"
   ]
  },
  {
   "cell_type": "code",
   "execution_count": null,
   "id": "9402cc33-3456-43a0-9f30-8c9d65309370",
   "metadata": {},
   "outputs": [],
   "source": [
    "# Create and view collections"
   ]
  },
  {
   "cell_type": "code",
   "execution_count": null,
   "id": "1ea28d70",
   "metadata": {},
   "outputs": [],
   "source": [
    "# Just in case it already exists, delete it\n",
    "res = astra_db.delete_collection(collection_name=\"test_collection\")\n",
    "print(res)\n",
    "\n",
    "# Now create the collection afresh\n",
    "res = astra_db.create_collection(collection_name=\"test_collection\", dimension=5)\n",
    "collection = astra_db.collection(collection_name=\"test_collection\")\n",
    "print(res)\n",
    "\n",
    "res = astra_db.get_collections()\n",
    "print(res)"
   ]
  },
  {
   "cell_type": "markdown",
   "id": "6b012402",
   "metadata": {},
   "source": [
    "# Insert one document\n",
    "\n",
    "When working with vector stores, there are reserved fields `$vector`` and `$similarity`.  The `$` is how these reserved words are used in the system."
   ]
  },
  {
   "cell_type": "code",
   "execution_count": null,
   "id": "c29a6f70",
   "metadata": {},
   "outputs": [],
   "source": [
    "# Insert into vector collection\n",
    "json_query = {\n",
    "        \"_id\": \"4\",\n",
    "        \"name\": \"Coded Cleats Copy\",\n",
    "        \"description\": \"ChatGPT integrated sneakers that talk to you\",\n",
    "        \"$vector\": [0.25, 0.25, 0.25, 0.25, 0.25],\n",
    "    }\n",
    "\n",
    "res = collection.insert_one(document=json_query)\n",
    "print(res)"
   ]
  },
  {
   "cell_type": "code",
   "execution_count": null,
   "id": "6ea478ba",
   "metadata": {},
   "outputs": [],
   "source": [
    "# Insert non-vector document\n",
    "\n",
    "json_query = {\n",
    "        \"_id\": \"Cliff1\",\n",
    "        \"first_name\": \"Cliff\",\n",
    "        \"last_name\": \"Wicklow\",\n",
    "    }\n",
    "response = collection.insert_one(document=json_query)\n",
    "print(response)\n"
   ]
  },
  {
   "cell_type": "markdown",
   "id": "fe944cf0",
   "metadata": {},
   "source": [
    "# Insert multiple documents"
   ]
  },
  {
   "cell_type": "code",
   "execution_count": null,
   "id": "c9b5c026",
   "metadata": {},
   "outputs": [],
   "source": [
    "json_query = [\n",
    "        {\n",
    "            \"_id\": \"1\",\n",
    "            \"name\": \"Coded Cleats\",\n",
    "            \"description\": \"ChatGPT integrated sneakers that talk to you\",\n",
    "            \"$vector\": [0.1, 0.15, 0.3, 0.12, 0.05],\n",
    "        },\n",
    "        {\n",
    "            \"_id\": \"2\",\n",
    "            \"name\": \"Logic Layers\",\n",
    "            \"description\": \"An AI quilt to help you sleep forever\",\n",
    "            \"$vector\": [0.45, 0.09, 0.01, 0.2, 0.11],\n",
    "        },\n",
    "        {\n",
    "            \"_id\": \"3\",\n",
    "            \"name\": \"Vision Vector Frame\",\n",
    "            \"description\": \"Vision Vector Frame - A deep learning display that controls your mood\",\n",
    "            \"$vector\": [0.1, 0.05, 0.08, 0.3, 0.6],\n",
    "        },\n",
    "    ]\n",
    "\n",
    "res = collection.insert_many(\n",
    "        documents=json_query,\n",
    "        options={\"ordered\": False},\n",
    "        partial_failures_allowed=True,\n",
    "    )\n",
    "print (res)"
   ]
  },
  {
   "cell_type": "markdown",
   "id": "c13cfc42",
   "metadata": {},
   "source": [
    "# Find documents"
   ]
  },
  {
   "cell_type": "markdown",
   "id": "5b71cc06",
   "metadata": {},
   "source": [
    "## Find a document"
   ]
  },
  {
   "cell_type": "code",
   "execution_count": null,
   "id": "f312b0ab",
   "metadata": {},
   "outputs": [],
   "source": [
    "document = collection.find_one(filter={\"_id\":\"4\"})\n",
    "print(document)"
   ]
  },
  {
   "cell_type": "markdown",
   "id": "08302258",
   "metadata": {},
   "source": [
    "## Find documents using vector search\n",
    "\n",
    "When working with vector stores, there are reserved fields $vector and $similarity.  The $ is how these reserved words are used in the system."
   ]
  },
  {
   "cell_type": "code",
   "execution_count": null,
   "id": "a8a3c1a8",
   "metadata": {},
   "outputs": [],
   "source": [
    "sort = {\"$vector\": [0.15, 0.1, 0.1, 0.35, 0.55]}\n",
    "options = {\"limit\": 100}\n",
    "\n",
    "document = collection.find(sort=sort, options=options)\n",
    "print(document)"
   ]
  },
  {
   "cell_type": "markdown",
   "id": "8777dbb3",
   "metadata": {},
   "source": [
    "## Find documents using vector search and projection\n",
    "\n",
    "Use \"projection\" to specify which fields you want to retrieve in your documents from the vector store.  The _id field will always be returned unless you indicate not to include it using `{\"_id\": 0}`"
   ]
  },
  {
   "cell_type": "code",
   "execution_count": null,
   "id": "69083ccb",
   "metadata": {},
   "outputs": [],
   "source": [
    "sort = {\"$vector\": [0.15, 0.1, 0.1, 0.35, 0.55]}\n",
    "options = {\"limit\": 100}\n",
    "projection = {\"$vector\": 1, \"$similarity\": 1}\n",
    "\n",
    "document = collection.find(sort=sort, options=options, projection=projection)\n",
    "print(document)\n",
    "\n",
    "\n"
   ]
  },
  {
   "cell_type": "markdown",
   "id": "c35151b8",
   "metadata": {},
   "source": [
    "## Find one document using vector search and projection"
   ]
  },
  {
   "cell_type": "code",
   "execution_count": null,
   "id": "87278dda",
   "metadata": {},
   "outputs": [],
   "source": [
    "sort = {\"$vector\": [0.15, 0.1, 0.1, 0.35, 0.55]}\n",
    "projection = {\"$vector\": 1}\n",
    "\n",
    "document = collection.find_one(sort=sort, options={}, projection=projection)\n",
    "print(document)\n",
    "    "
   ]
  },
  {
   "cell_type": "markdown",
   "id": "f04a1806",
   "metadata": {},
   "source": [
    "## Find one and update with vector search"
   ]
  },
  {
   "cell_type": "code",
   "execution_count": null,
   "id": "e710c0b4",
   "metadata": {},
   "outputs": [],
   "source": [
    "sort = {\"$vector\": [0.15, 0.1, 0.1, 0.35, 0.55]}\n",
    "update = {\"$set\": {\"status\": \"active\"}}\n",
    "\n",
    "collection.find_one_and_update(sort=sort, update=update, options={})\n",
    "document = collection.find_one(filter={\"status\": \"active\"})\n",
    "print(document)\n",
    " "
   ]
  },
  {
   "cell_type": "markdown",
   "id": "22966c97",
   "metadata": {},
   "source": [
    "## Find one and replace with vector search"
   ]
  },
  {
   "cell_type": "code",
   "execution_count": null,
   "id": "779e7f4d",
   "metadata": {},
   "outputs": [],
   "source": [
    "sort = {\"$vector\": [0.15, 0.1, 0.1, 0.35, 0.55]}\n",
    "replacement = {\n",
    "        \"_id\": \"3\",\n",
    "        \"name\": \"Vision Vector Frame\",\n",
    "        \"description\": \"Vision Vector Frame - A deep learning display that controls your mood\",\n",
    "        \"$vector\": [0.1, 0.05, 0.08, 0.3, 0.6],\n",
    "        \"status\": \"inactive\",\n",
    "}\n",
    "\n",
    "collection.find_one_and_replace(sort=sort, replacement=replacement, options={})\n",
    "document = collection.find_one(filter={\"name\": \"Vision Vector Frame\"})\n",
    "print(document)\n",
    "    "
   ]
  },
  {
   "cell_type": "markdown",
   "id": "4db9bca8",
   "metadata": {},
   "source": [
    "## Delete a collection"
   ]
  },
  {
   "cell_type": "markdown",
   "id": "0cf458b8",
   "metadata": {},
   "source": []
  },
  {
   "cell_type": "code",
   "execution_count": null,
   "id": "0d47a986",
   "metadata": {},
   "outputs": [],
   "source": [
    "returnval = astra_db.delete_collection(collection_name=\"test_collection\")\n",
    "print(returnval)"
   ]
  },
  {
   "cell_type": "markdown",
   "id": "a749a7f3",
   "metadata": {},
   "source": []
  },
  {
   "cell_type": "markdown",
   "id": "f557f068",
   "metadata": {},
   "source": []
  }
 ],
 "metadata": {
  "kernelspec": {
   "display_name": "Python 3 (ipykernel)",
   "language": "python",
   "name": "python3"
  },
  "language_info": {
   "codemirror_mode": {
    "name": "ipython",
    "version": 3
   },
   "file_extension": ".py",
   "mimetype": "text/x-python",
   "name": "python",
   "nbconvert_exporter": "python",
   "pygments_lexer": "ipython3",
   "version": "3.10.11"
  }
 },
 "nbformat": 4,
 "nbformat_minor": 5
}
