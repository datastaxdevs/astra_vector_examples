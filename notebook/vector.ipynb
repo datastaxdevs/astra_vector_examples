{
 "cells": [
  {
   "cell_type": "markdown",
   "id": "6715bc2b",
   "metadata": {},
   "source": [
    "# Using AstraPy with vector database\n",
    "\n",
    "Work with AstraPy"
   ]
  },
  {
   "cell_type": "markdown",
   "id": "761d9b70",
   "metadata": {},
   "source": [
    "Make sure you have a Database and get ready to upload the Secure Connect Bundle and supply the Token string\n",
    "(see [Pre-requisites](https://cassio.org/start_here/#vector-database) on cassio.org for details. Remember you need a **custom Token** with role [Database Administrator](https://awesome-astra.github.io/docs/pages/astra/create-token/))."
   ]
  },
  {
   "cell_type": "markdown",
   "id": "14da74b6",
   "metadata": {},
   "source": [
    "### Set up your python environment\n",
    "\n",
    "\n"
   ]
  },
  {
   "cell_type": "code",
   "execution_count": null,
   "id": "042f832e",
   "metadata": {},
   "outputs": [],
   "source": [
    "!curl -H 'Cache-Control: no-cache, no-store'  https://raw.githubusercontent.com/synedra/astra_vector_examples/main/notebook/astrapy.zip --output astrapy.zip\n",
    "%pip install astrapy.zip\n"
   ]
  },
  {
   "cell_type": "markdown",
   "id": "84026946",
   "metadata": {},
   "source": [
    "### Import needed libraries\n",
    "\n"
   ]
  },
  {
   "cell_type": "code",
   "execution_count": 2,
   "id": "5b15d1a4",
   "metadata": {},
   "outputs": [],
   "source": [
    "from astrapy.base import AstraClient, http_methods\n",
    "from astrapy.serverless import AstraJsonClient\n",
    "from astrapy.vector import AstraVectorClient\n",
    "from astrapy.ops import AstraOps\n",
    "import os\n",
    "\n",
    "\n"
   ]
  },
  {
   "cell_type": "markdown",
   "id": "485d5347",
   "metadata": {},
   "source": [
    "### Astra Setup\n",
    "\n"
   ]
  },
  {
   "cell_type": "markdown",
   "id": "6429f29a",
   "metadata": {
    "id": "QNQ6T_Gjk0Oz"
   },
   "source": [
    "### Astra Variables"
   ]
  },
  {
   "cell_type": "code",
   "execution_count": null,
   "id": "a394ab26",
   "metadata": {},
   "outputs": [],
   "source": [
    "# Input your database keyspace name:\n",
    "ASTRA_DB_ID = input('Your Astra DB id: ')"
   ]
  },
  {
   "cell_type": "code",
   "execution_count": null,
   "id": "c2296fea",
   "metadata": {},
   "outputs": [],
   "source": [
    "# Input your database keyspace name:\n",
    "ASTRA_DB_KEYSPACE = input('Your Astra DB Keyspace name (e.g. vector): ')"
   ]
  },
  {
   "cell_type": "code",
   "execution_count": null,
   "id": "6002dfc3",
   "metadata": {},
   "outputs": [],
   "source": [
    "# Input your Astra DB token string, the one starting with \"AstraCS:...\"\n",
    "from getpass import getpass\n",
    "ASTRA_DB_APPLICATION_TOKEN = getpass('Your Astra DB Token (\"AstraCS:...\"): ')"
   ]
  },
  {
   "cell_type": "code",
   "execution_count": null,
   "id": "fc4d681d",
   "metadata": {},
   "outputs": [],
   "source": [
    "# Input your Astra DB token string, the one starting with \"AstraCS:...\"\n",
    "from getpass import getpass\n",
    "ASTRA_DB_REGION = getpass('Your Astra DB Region: ')"
   ]
  },
  {
   "cell_type": "code",
   "execution_count": 2,
   "id": "11013224",
   "metadata": {},
   "outputs": [],
   "source": [
    "# Input your Astra DB token string, the one starting with \"AstraCS:...\"\n",
    "from getpass import getpass\n",
    "TEST_COLLECTION_NAME = getpass('Collection name for tutorial: (e.g. \"vector_test\") ')"
   ]
  },
  {
   "cell_type": "code",
   "execution_count": null,
   "id": "971edbec",
   "metadata": {},
   "outputs": [],
   "source": [
    "### Client setup\n",
    "astra_client = AstraClient(\n",
    "        astra_database_id=ASTRA_DB_ID,\n",
    "        astra_database_region=ASTRA_DB_REGION,\n",
    "        astra_application_token=ASTRA_DB_APPLICATION_TOKEN,\n",
    "    )\n",
    "\n",
    "vector_client = AstraVectorClient(astra_client=astra_client)\n",
    "test_namespace = vector_client.namespace(ASTRA_DB_KEYSPACE)\n",
    "test_collection = vector_client.namespace(ASTRA_DB_KEYSPACE).collection(TEST_COLLECTION_NAME)"
   ]
  },
  {
   "cell_type": "markdown",
   "id": "501df1e6",
   "metadata": {},
   "source": [
    "# Create and view collections"
   ]
  },
  {
   "cell_type": "code",
   "execution_count": null,
   "id": "1ea28d70",
   "metadata": {},
   "outputs": [],
   "source": [
    "res = test_namespace.create_vector_collection(name=TEST_COLLECTION_NAME, size=5)\n",
    "res = test_namespace.get_collections()\n",
    "print(res)"
   ]
  },
  {
   "cell_type": "markdown",
   "id": "6b012402",
   "metadata": {},
   "source": [
    "# Insert one document"
   ]
  },
  {
   "cell_type": "code",
   "execution_count": null,
   "id": "c29a6f70",
   "metadata": {},
   "outputs": [],
   "source": [
    "json_query = {\n",
    "        \"_id\": \"4\",\n",
    "        \"name\": \"Coded Cleats Copy\",\n",
    "        \"description\": \"ChatGPT integrated sneakers that talk to you\",\n",
    "        \"$vector\": [0.25, 0.25, 0.25, 0.25, 0.25],\n",
    "    }\n",
    "\n",
    "res = test_collection.create(document=json_query)\n",
    "print(res)"
   ]
  },
  {
   "cell_type": "markdown",
   "id": "fe944cf0",
   "metadata": {},
   "source": [
    "# Insert multiple documents"
   ]
  },
  {
   "cell_type": "code",
   "execution_count": null,
   "id": "c9b5c026",
   "metadata": {},
   "outputs": [],
   "source": [
    "json_query = [\n",
    "        {\n",
    "            \"_id\": \"1\",\n",
    "            \"name\": \"Coded Cleats\",\n",
    "            \"description\": \"ChatGPT integrated sneakers that talk to you\",\n",
    "            \"$vector\": [0.1, 0.15, 0.3, 0.12, 0.05],\n",
    "        },\n",
    "        {\n",
    "            \"_id\": \"2\",\n",
    "            \"name\": \"Logic Layers\",\n",
    "            \"description\": \"An AI quilt to help you sleep forever\",\n",
    "            \"$vector\": [0.45, 0.09, 0.01, 0.2, 0.11],\n",
    "        },\n",
    "        {\n",
    "            \"_id\": \"3\",\n",
    "            \"name\": \"Vision Vector Frame\",\n",
    "            \"description\": \"Vision Vector Frame - A deep learning display that controls your mood\",\n",
    "            \"$vector\": [0.1, 0.05, 0.08, 0.3, 0.6],\n",
    "        },\n",
    "    ]\n",
    "\n",
    "res = test_collection.insert_many(documents=json_query)\n",
    "print(res)"
   ]
  },
  {
   "cell_type": "code",
   "execution_count": null,
   "id": "9bf233ab",
   "metadata": {},
   "outputs": [],
   "source": [
    "# Input your AWS Session Token\n",
    "os.environ[\"AWS_SESSION_TOKEN\"] = getpass('Your AWS Session Token: ')"
   ]
  },
  {
   "cell_type": "markdown",
   "id": "4388ac1d",
   "metadata": {},
   "source": [
    "### Set up AWS Bedrock objects\n",
    "\n"
   ]
  },
  {
   "cell_type": "code",
   "execution_count": 3,
   "id": "d65c46f0",
   "metadata": {},
   "outputs": [],
   "source": [
    "bedrock_runtime=boto3.client('bedrock-runtime','us-west-2',endpoint_url='https://bedrock.us-west-2.amazonaws.com')\n",
    "bedrock_embeddings = BedrockEmbeddings(model_id=\"amazon.titan-embed-text-v1\", client=bedrock_runtime)\n"
   ]
  },
  {
   "cell_type": "markdown",
   "id": "29d9f48b",
   "metadata": {},
   "source": [
    "### Set up a vectorstore in Astra"
   ]
  },
  {
   "cell_type": "code",
   "execution_count": 4,
   "id": "29d9f48c",
   "metadata": {},
   "outputs": [],
   "source": [
    "myCassandraVStore = Cassandra(\n",
    "embedding=bedrock_embeddings,\n",
    "session=session,\n",
    "keyspace=ASTRA_DB_KEYSPACE,\n",
    "table_name='shakespeare_act5'\n",
    ")\n"
   ]
  },
  {
   "cell_type": "markdown",
   "id": "4c3274d4",
   "metadata": {},
   "source": [
    "### Populate the database\n",
    "\n",
    "Add lines for the text of Romeo and Astra, Scene 5, Act 3\n",
    "\n"
   ]
  },
  {
   "cell_type": "code",
   "execution_count": null,
   "id": "8982071c",
   "metadata": {},
   "outputs": [],
   "source": [
    "# retrieve the text of a scene from act 5 of Romeo and Astra. \n",
    "# Juliet's name was changed to Astra to prevent the LLM from \"cheating\" when providing an answer.\n",
    "! mkdir texts\n",
    "! curl https://raw.githubusercontent.com/synedra/astra_vector_examples/main/romeo_astra.json --output texts/romeo_astra.json\n",
    "quote_array = json.load(open('texts/romeo_astra.json'))\n"
   ]
  },
  {
   "cell_type": "markdown",
   "id": "4cb6b732",
   "metadata": {},
   "source": [
    "Next, you'll populate the database with the lines from the play.\n",
    "This can take a couple of minutes, please be patient.  In total there are 321 lines.\n"
   ]
  },
  {
   "cell_type": "code",
   "execution_count": 5,
   "id": "7bae5520",
   "metadata": {},
   "outputs": [],
   "source": [
    "for index in range(len(quote_array)):\n",
    " location = ''\n",
    " if (quote_array[index]['ActSceneLine'] != ''):\n",
    "    (act, scene, line) = quote_array[index]['ActSceneLine'].split('.')\n",
    "    location = 'Act {}, Scene {}, Line {}'.format(act, scene, line)\n",
    " quote_input = '{} : {} : {}'.format(location, quote_array[index]['Player'], quote_array[index]['PlayerLine'])\n",
    " input_document = Document(page_content=quote_input)\n",
    " print(quote_input)\n",
    " myCassandraVStore.add_documents(documents=[input_document])\n"
   ]
  },
  {
   "cell_type": "markdown",
   "id": "d189ec8b",
   "metadata": {},
   "source": [
    "### Ask a question\n",
    "Enter a question and create the prompt template for the LLM query.  \n",
    "Give instructions about what you want the model to do.\n"
   ]
  },
  {
   "cell_type": "code",
   "execution_count": null,
   "id": "f825b6ef",
   "metadata": {},
   "outputs": [],
   "source": [
    "# Enter a question about Romeo and Astra (Like 'How did Astra die?')\n",
    "QUESTION_FOR_MODEL = input('Your question about Romeo and Astra: ')"
   ]
  },
  {
   "cell_type": "code",
   "execution_count": 6,
   "id": "e4e816ee",
   "metadata": {},
   "outputs": [],
   "source": [
    "generation_prompt_template = \"\"\"Please answer a question from a user.\n",
    "Create a summary of the information between ## to answer the question. \n",
    "Your task is to answer the question using only the summary using 20 words. \n",
    "\n",
    "#\n",
    "{context}\n",
    "#\n",
    "\n",
    "question= {question}\n",
    "Answer:\"\"\"\n"
   ]
  },
  {
   "cell_type": "markdown",
   "id": "f18cbb6b",
   "metadata": {},
   "source": [
    "### Create a retriever\n",
    "This will allow you to get the most relevant documents from the database\n"
   ]
  },
  {
   "cell_type": "code",
   "execution_count": 6,
   "id": "2e92723d",
   "metadata": {},
   "outputs": [],
   "source": [
    "retriever = myCassandraVStore.as_retriever(search_kwargs={'k':2,})\n",
    "output=retriever.get_relevant_documents(QUESTION_FOR_MODEL)\n",
    "prompt = PromptTemplate.from_template(\"{page_content}\")\n",
    "context = ''\n",
    "for document in output:\n",
    "    context += ' *** ' + document.page_content \n",
    "\n",
    "print(context)\n"
   ]
  },
  {
   "cell_type": "markdown",
   "id": "1076f354",
   "metadata": {},
   "source": [
    "### Build the llm prompt\n"
   ]
  },
  {
   "cell_type": "code",
   "execution_count": 6,
   "id": "83c9d38e",
   "metadata": {},
   "outputs": [],
   "source": [
    "llm_prompt = generation_prompt_template.format(\n",
    "    question=QUESTION_FOR_MODEL,\n",
    "    context=context,\n",
    ")\n"
   ]
  },
  {
   "cell_type": "markdown",
   "id": "f09831bc",
   "metadata": {},
   "source": [
    "### Generate the Answer \n",
    "Generate the answer using the prompt, using amazon.titan-tg1-large as the LLM model\n"
   ]
  },
  {
   "cell_type": "code",
   "execution_count": 6,
   "id": "7d04d378",
   "metadata": {},
   "outputs": [],
   "source": [
    "body = json.dumps({'inputText': llm_prompt})\n",
    "modelId = 'amazon.titan-tg1-large' \n",
    "accept = 'application/json'\n",
    "contentType = 'application/json'\n",
    "response = bedrock_runtime.invoke_model(body=body, modelId=modelId, accept=accept, contentType=contentType)\n",
    "response_body = json.loads(response.get('body').read())\n",
    "print ('Question: ' + QUESTION_FOR_MODEL)\n",
    "print ('Answer: ' + response_body.get('results')[0].get('outputText'))\n"
   ]
  },
  {
   "cell_type": "markdown",
   "id": "f31c2d97",
   "metadata": {},
   "source": [
    "### Additional resources\n",
    "To learn more about Amazon Bedrock you can check out this site:  https://github.com/aws-samples/amazon-bedrock-samples/tree/main/introduction-to-bedrock"
   ]
  }
 ],
 "metadata": {
  "kernelspec": {
   "display_name": "venv",
   "language": "python",
   "name": "venv"
  },
  "language_info": {
   "codemirror_mode": {
    "name": "ipython",
    "version": 3
   },
   "file_extension": ".py",
   "mimetype": "text/x-python",
   "name": "python",
   "nbconvert_exporter": "python",
   "pygments_lexer": "ipython3",
   "version": "3.10.11"
  }
 },
 "nbformat": 4,
 "nbformat_minor": 5
}
