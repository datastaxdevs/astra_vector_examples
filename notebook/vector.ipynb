{
 "cells": [
  {
   "cell_type": "markdown",
   "id": "6715bc2b",
   "metadata": {},
   "source": [
    "# Using AstraPy with vector database\n",
    "\n",
    "Work with AstraPy"
   ]
  },
  {
   "cell_type": "markdown",
   "id": "761d9b70",
   "metadata": {},
   "source": [
    "Make sure you have a Database and get ready to supply the Token string\n",
    "(see [Pre-requisites](https://cassio.org/start_here/#vector-database) on cassio.org for details. Remember you need a **custom Token** with role [Database Administrator](https://awesome-astra.github.io/docs/pages/astra/create-token/))."
   ]
  },
  {
   "cell_type": "markdown",
   "id": "14da74b6",
   "metadata": {},
   "source": [
    "### Set up your python environment\n",
    "\n",
    "\n"
   ]
  },
  {
   "cell_type": "code",
   "execution_count": null,
   "id": "042f832e",
   "metadata": {},
   "outputs": [],
   "source": [
    "%pip install astrapy --pre --upgrade\n"
   ]
  },
  {
   "cell_type": "markdown",
   "id": "84026946",
   "metadata": {},
   "source": [
    "### Import needed libraries\n",
    "\n"
   ]
  },
  {
   "cell_type": "code",
   "execution_count": null,
   "id": "5b15d1a4",
   "metadata": {},
   "outputs": [],
   "source": [
    "from astrapy.base import AstraClient, http_methods\n",
    "from astrapy.collections import AstraCollectionClient\n",
    "from astrapy.ops import AstraOps\n",
    "import os, json\n",
    "import uuid\n",
    "\n",
    "\n"
   ]
  },
  {
   "cell_type": "markdown",
   "id": "485d5347",
   "metadata": {},
   "source": [
    "### Astra Setup\n",
    "\n"
   ]
  },
  {
   "cell_type": "markdown",
   "id": "6429f29a",
   "metadata": {
    "id": "QNQ6T_Gjk0Oz"
   },
   "source": [
    "### Astra Variables"
   ]
  },
  {
   "cell_type": "code",
   "execution_count": null,
   "id": "873ee343",
   "metadata": {},
   "outputs": [],
   "source": [
    "# Input your Astra DB token string, the one starting with \"AstraCS:...\"\n",
    "from getpass import getpass\n",
    "ASTRA_DB_APPLICATION_TOKEN = getpass('Your Astra DB Token (\"AstraCS:...\"): ')"
   ]
  },
  {
   "cell_type": "code",
   "execution_count": null,
   "id": "c8cc746c",
   "metadata": {},
   "outputs": [],
   "source": [
    "# Input your Astra DB token string, the one starting with \"AstraCS:...\"\n",
    "ASTRA_DB_ID = input('Your Astra DB ID: ')"
   ]
  },
  {
   "cell_type": "code",
   "execution_count": null,
   "id": "47ae1834",
   "metadata": {},
   "outputs": [],
   "source": [
    "astra_base_client = AstraClient(\n",
    "    astra_database_id=ASTRA_DB_ID,\n",
    "    astra_application_token=ASTRA_DB_APPLICATION_TOKEN\n",
    ")\n",
    "\n",
    "ASTRA_DB_REGION=\"\"\n",
    "\n",
    "astra_ops_client = AstraOps(astra_base_client)\n",
    "database_info = astra_ops_client.get_databases()\n",
    "for database in database_info:\n",
    "    print (database[\"id\"])\n",
    "    if database[\"id\"] == ASTRA_DB_ID:\n",
    "        ASTRA_DB_REGION = database[\"info\"][\"datacenters\"][0][\"region\"]\n",
    "print(database_info)\n"
   ]
  },
  {
   "cell_type": "code",
   "execution_count": null,
   "id": "971edbec",
   "metadata": {},
   "outputs": [],
   "source": [
    "g### Client setup\n",
    "astra_client = AstraClient(\n",
    "        astra_database_id=ASTRA_DB_ID,\n",
    "        astra_database_region=ASTRA_DB_REGION,\n",
    "        astra_application_token=ASTRA_DB_APPLICATION_TOKEN,\n",
    "    )\n",
    "\n",
    "collections_client = AstraCollectionClient(astra_client=astra_client)\n",
    "test_namespace = collections_client.namespace(\"default_keyspace\")\n",
    "test_collection = collections_client.namespace(\"default_keyspace\").collection(\"collection_test\")"
   ]
  },
  {
   "cell_type": "code",
   "execution_count": null,
   "id": "1ea28d70",
   "metadata": {},
   "outputs": [],
   "source": [
    "# Create and view collections\n",
    "# Just in case it already exists, delete it\n",
    "res = test_namespace.delete_collection(name=\"collection_test\")\n",
    "print (res)\n",
    "\n",
    "res = test_namespace.create_collection(name=\"collection_test\", size=5)\n",
    "print(res)\n",
    "\n",
    "res = test_namespace.get_collections()\n",
    "print(res)"
   ]
  },
  {
   "cell_type": "code",
   "execution_count": null,
   "id": "29db0e07",
   "metadata": {},
   "outputs": [],
   "source": []
  },
  {
   "cell_type": "markdown",
   "id": "6b012402",
   "metadata": {},
   "source": [
    "# Insert one document"
   ]
  },
  {
   "cell_type": "code",
   "execution_count": null,
   "id": "c29a6f70",
   "metadata": {},
   "outputs": [],
   "source": [
    "# Insert into vector collection\n",
    "json_query = {\n",
    "        \"_id\": \"4\",\n",
    "        \"name\": \"Coded Cleats Copy\",\n",
    "        \"description\": \"ChatGPT integrated sneakers that talk to you\",\n",
    "        \"$vector\": [0.25, 0.25, 0.25, 0.25, 0.25],\n",
    "    }\n",
    "\n",
    "res = test_collection.insert_one(document=json_query)\n",
    "print(res)"
   ]
  },
  {
   "cell_type": "code",
   "execution_count": null,
   "id": "6ea478ba",
   "metadata": {},
   "outputs": [],
   "source": [
    "# Insert non-vector document\n",
    "\n",
    "json_query = {\n",
    "        \"_id\": \"Cliff1\",\n",
    "        \"first_name\": \"Cliff\",\n",
    "        \"last_name\": \"Wicklow\",\n",
    "    }\n",
    "response = test_collection.insert_one(document=json_query)\n",
    "print(response)\n"
   ]
  },
  {
   "cell_type": "markdown",
   "id": "fe944cf0",
   "metadata": {},
   "source": [
    "# Insert multiple documents"
   ]
  },
  {
   "cell_type": "code",
   "execution_count": null,
   "id": "c9b5c026",
   "metadata": {},
   "outputs": [],
   "source": [
    "json_query = [\n",
    "        {\n",
    "            \"_id\": \"1\",\n",
    "            \"name\": \"Coded Cleats\",\n",
    "            \"description\": \"ChatGPT integrated sneakers that talk to you\",\n",
    "            \"$vector\": [0.1, 0.15, 0.3, 0.12, 0.05],\n",
    "        },\n",
    "        {\n",
    "            \"_id\": \"2\",\n",
    "            \"name\": \"Logic Layers\",\n",
    "            \"description\": \"An AI quilt to help you sleep forever\",\n",
    "            \"$vector\": [0.45, 0.09, 0.01, 0.2, 0.11],\n",
    "        },\n",
    "        {\n",
    "            \"_id\": \"3\",\n",
    "            \"name\": \"Vision Vector Frame\",\n",
    "            \"description\": \"Vision Vector Frame - A deep learning display that controls your mood\",\n",
    "            \"$vector\": [0.1, 0.05, 0.08, 0.3, 0.6],\n",
    "        },\n",
    "    ]\n",
    "\n",
    "res = test_collection.insert_many(documents=json_query)\n",
    "print(res)"
   ]
  },
  {
   "cell_type": "markdown",
   "id": "c13cfc42",
   "metadata": {},
   "source": [
    "# Find documents"
   ]
  },
  {
   "cell_type": "markdown",
   "id": "5b71cc06",
   "metadata": {},
   "source": [
    "## Find a document"
   ]
  },
  {
   "cell_type": "code",
   "execution_count": null,
   "id": "f312b0ab",
   "metadata": {},
   "outputs": [],
   "source": [
    "document = test_collection.find_one(filter={\"_id\":\"4\"})\n",
    "print(document)"
   ]
  },
  {
   "cell_type": "markdown",
   "id": "08302258",
   "metadata": {},
   "source": [
    "## Find documents using vector search"
   ]
  },
  {
   "cell_type": "code",
   "execution_count": null,
   "id": "a8a3c1a8",
   "metadata": {},
   "outputs": [],
   "source": [
    "sort = {\"$vector\": [0.15, 0.1, 0.1, 0.35, 0.55]}\n",
    "options = {\"limit\": 100}\n",
    "\n",
    "document = test_collection.find(sort=sort, options=options)\n",
    "print(document)"
   ]
  },
  {
   "cell_type": "markdown",
   "id": "8777dbb3",
   "metadata": {},
   "source": [
    "## Find documents using vector search and projection"
   ]
  },
  {
   "cell_type": "code",
   "execution_count": null,
   "id": "69083ccb",
   "metadata": {},
   "outputs": [],
   "source": [
    "sort = {\"$vector\": [0.15, 0.1, 0.1, 0.35, 0.55]}\n",
    "options = {\"limit\": 100}\n",
    "projection = {\"$vector\": 1, \"$similarity\": 1}\n",
    "\n",
    "document = test_collection.find(sort=sort, options=options, projection=projection)\n",
    "print(document)\n",
    "\n",
    "\n"
   ]
  },
  {
   "cell_type": "markdown",
   "id": "c35151b8",
   "metadata": {},
   "source": [
    "## Find one document using vector search and projection"
   ]
  },
  {
   "cell_type": "code",
   "execution_count": null,
   "id": "87278dda",
   "metadata": {},
   "outputs": [],
   "source": [
    "sort = {\"$vector\": [0.15, 0.1, 0.1, 0.35, 0.55]}\n",
    "projection = {\"$vector\": 1}\n",
    "\n",
    "document = test_collection.find_one(sort=sort, options={}, projection=projection)\n",
    "print(document)\n",
    "    "
   ]
  },
  {
   "cell_type": "markdown",
   "id": "f04a1806",
   "metadata": {},
   "source": [
    "## Find one and update with vector search"
   ]
  },
  {
   "cell_type": "code",
   "execution_count": null,
   "id": "e710c0b4",
   "metadata": {},
   "outputs": [],
   "source": [
    "sort = {\"$vector\": [0.15, 0.1, 0.1, 0.35, 0.55]}\n",
    "update = {\"$set\": {\"status\": \"active\"}}\n",
    "options = {\"returnDocument\": \"after\"}\n",
    "\n",
    "test_collection.find_one_and_update(sort=sort, update=update, options=options)\n",
    "document = test_collection.find_one(filter={\"status\": \"active\"})\n",
    "print(document)\n",
    " "
   ]
  },
  {
   "cell_type": "markdown",
   "id": "22966c97",
   "metadata": {},
   "source": [
    "## Find one and replace with vector search"
   ]
  },
  {
   "cell_type": "code",
   "execution_count": null,
   "id": "779e7f4d",
   "metadata": {},
   "outputs": [],
   "source": [
    "sort = ({\"$vector\": [0.15, 0.1, 0.1, 0.35, 0.55]},)\n",
    "replacement = {\n",
    "        \"_id\": \"3\",\n",
    "        \"name\": \"Vision Vector Frame\",\n",
    "        \"description\": \"Vision Vector Frame - A deep learning display that controls your mood\",\n",
    "        \"$vector\": [0.1, 0.05, 0.08, 0.3, 0.6],\n",
    "        \"status\": \"inactive\",\n",
    "}\n",
    "options = {\"returnDocument\": \"after\"}\n",
    "\n",
    "test_collection.find_one_and_replace(sort=sort, replacement=replacement, options=options)\n",
    "document = test_collection.find_one(filter={\"name\": \"Vision Vector Frame\"})\n",
    "print(document)\n",
    "    "
   ]
  },
  {
   "cell_type": "markdown",
   "id": "4db9bca8",
   "metadata": {},
   "source": [
    "## Delete a collection"
   ]
  },
  {
   "cell_type": "markdown",
   "id": "0cf458b8",
   "metadata": {},
   "source": []
  },
  {
   "cell_type": "code",
   "execution_count": null,
   "id": "0d47a986",
   "metadata": {},
   "outputs": [],
   "source": [
    "returnval = test_namespace.delete_collection(name=TEST_COLLECTION_NAME)\n",
    "print(returnval)"
   ]
  },
  {
   "cell_type": "markdown",
   "id": "a749a7f3",
   "metadata": {},
   "source": []
  }
 ],
 "metadata": {
  "kernelspec": {
   "display_name": "venv",
   "language": "python",
   "name": "venv"
  },
  "language_info": {
   "codemirror_mode": {
    "name": "ipython",
    "version": 3
   },
   "file_extension": ".py",
   "mimetype": "text/x-python",
   "name": "python",
   "nbconvert_exporter": "python",
   "pygments_lexer": "ipython3",
   "version": "3.10.11"
  }
 },
 "nbformat": 4,
 "nbformat_minor": 5
}
