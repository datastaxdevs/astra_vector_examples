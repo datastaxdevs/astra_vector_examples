{
 "cells": [
  {
   "cell_type": "markdown",
   "id": "6715bc2b",
   "metadata": {},
   "source": [
    "# Astra DB with AstraPy"
   ]
  },
  {
   "cell_type": "markdown",
   "id": "9f6e9609-7293-4d46-a63a-5e0986581d70",
   "metadata": {},
   "source": [
    "Learn how to use your Astra DB database with AstraPy.\n",
    "\n",
    "In this quickstart, you'll create a vector collection, store a few documents on it, and run **vector searches** on it.\n",
    "\n",
    "_Prerequisites:_ Make sure you have an Astra DB instance and get ready to supply the corresponding *Token* and the *API Endpoint*\n",
    "(read more [here](https://docs.datastax.com/en/astra/home/astra.html))."
   ]
  },
  {
   "cell_type": "markdown",
   "id": "14da74b6",
   "metadata": {},
   "source": [
    "## Setup"
   ]
  },
  {
   "cell_type": "code",
   "execution_count": null,
   "id": "042f832e",
   "metadata": {},
   "outputs": [],
   "source": [
    "!pip install --quiet --upgrade astrapy"
   ]
  },
  {
   "cell_type": "markdown",
   "id": "84026946",
   "metadata": {},
   "source": [
    "### Import needed libraries"
   ]
  },
  {
   "cell_type": "code",
   "execution_count": null,
   "id": "5b15d1a4",
   "metadata": {},
   "outputs": [],
   "source": [
    "import os, json\n",
    "from getpass import getpass\n",
    "\n",
    "from astrapy.db import AstraDB"
   ]
  },
  {
   "cell_type": "markdown",
   "id": "968c5070-24a1-4cf3-a923-2478ceaa2e37",
   "metadata": {},
   "source": [
    "### Provide database credentials\n",
    "\n",
    "These are the connection parameters on your Astra dashboard. Example values:\n",
    "\n",
    "- API Endpoint: `https://01234567-89ab-cdef-0123-456789abcdef-us-east1.apps.astra.datastax.com`\n",
    "- Token: `AstraCS:6gBhNmsk135...`\n"
   ]
  },
  {
   "cell_type": "code",
   "execution_count": null,
   "id": "0c9a7b18-e7a8-466e-8785-2becc94017fb",
   "metadata": {},
   "outputs": [],
   "source": [
    "ASTRA_DB_API_ENDPOINT = input(\"ASTRA_DB_API_ENDPOINT = \")\n",
    "ASTRA_DB_APPLICATION_TOKEN = getpass(\"ASTRA_DB_APPLICATION_TOKEN = \")"
   ]
  },
  {
   "cell_type": "markdown",
   "id": "485d5347",
   "metadata": {},
   "source": [
    "## Create a collection"
   ]
  },
  {
   "cell_type": "markdown",
   "id": "6429f29a",
   "metadata": {
    "id": "QNQ6T_Gjk0Oz"
   },
   "source": [
    "### Create the client"
   ]
  },
  {
   "cell_type": "code",
   "execution_count": null,
   "id": "971edbec",
   "metadata": {},
   "outputs": [],
   "source": [
    "astra_db = AstraDB(\n",
    "    api_endpoint=ASTRA_DB_API_ENDPOINT,\n",
    "    token=ASTRA_DB_APPLICATION_TOKEN,\n",
    ")"
   ]
  },
  {
   "cell_type": "markdown",
   "id": "13d51223",
   "metadata": {},
   "source": [
    "### Create the collection\n",
    "\n",
    "The `create_collection` method results in a new collection on your database."
   ]
  },
  {
   "cell_type": "code",
   "execution_count": null,
   "id": "895ae303-8e47-46ae-94b8-6d2e1e2f1113",
   "metadata": {},
   "outputs": [],
   "source": [
    "collection = astra_db.create_collection(\"test_collection\", dimension=5)"
   ]
  },
  {
   "cell_type": "markdown",
   "id": "116596b5-e199-4869-9085-87a0af281afc",
   "metadata": {},
   "source": [
    "Here, `dimension` is the vector dimension (or \"size\", i.e. how many numeric components your vector will have).\n",
    "\n",
    "We choose a very low number in this example for demonstration purposes, but actual embedding vectors usually are much longer.\n",
    "\n",
    "_Note:_ In case it exists already and the parameters match, this method does just return the collection -- you will get an error, instead, if you try to create a collection with the same name but a different configuration (such as a mismatching dimension)."
   ]
  },
  {
   "cell_type": "markdown",
   "id": "4d6effcf",
   "metadata": {},
   "source": [
    "## Insert documents"
   ]
  },
  {
   "cell_type": "markdown",
   "id": "6b012402",
   "metadata": {},
   "source": [
    "### Insert one document\n",
    "\n",
    "When working with vector stores, your documents can have arbitrary fields, as long as you use only letters, digits and the `_` (underscore) character, preferrably sticking to `snake_case`, in their name.\n",
    "\n",
    "In particular, note the reserved dollar sign in the field names `$vector` and `$similarity`."
   ]
  },
  {
   "cell_type": "code",
   "execution_count": null,
   "id": "c29a6f70",
   "metadata": {},
   "outputs": [],
   "source": [
    "v_doc1 = {\n",
    "    \"_id\": \"1\",\n",
    "    \"name\": \"Coded Cleats\",\n",
    "    \"description\": \"ChatGPT integrated sneakers that talk to you\",\n",
    "    \"$vector\": [0.25, 0.25, 0.25, 0.25, 0.25],\n",
    "}\n",
    "\n",
    "response = collection.insert_one(v_doc1)\n",
    "print(response)"
   ]
  },
  {
   "cell_type": "markdown",
   "id": "4c15f8ee-d103-4e16-8273-8fcc6eb172ba",
   "metadata": {},
   "source": [
    "You can insert documents without any attached vector as well:"
   ]
  },
  {
   "cell_type": "code",
   "execution_count": null,
   "id": "6ea478ba",
   "metadata": {},
   "outputs": [],
   "source": [
    "non_v_doc1 = {\n",
    "    \"_id\": \"Cliff1\",\n",
    "    \"first_name\": \"Cliff\",\n",
    "    \"last_name\": \"Wicklow\",\n",
    "}\n",
    "\n",
    "response = collection.insert_one(non_v_doc1)\n",
    "print(response)"
   ]
  },
  {
   "cell_type": "markdown",
   "id": "fe944cf0",
   "metadata": {},
   "source": [
    "### Insert multiple documents"
   ]
  },
  {
   "cell_type": "code",
   "execution_count": null,
   "id": "c9b5c026",
   "metadata": {},
   "outputs": [],
   "source": [
    "v_doc_list = [\n",
    "    {\n",
    "        \"_id\": \"2\",\n",
    "        \"name\": \"Logic Layers\",\n",
    "        \"description\": \"An AI quilt to help you sleep forever\",\n",
    "        \"$vector\": [0.45, 0.09, 0.01, 0.2, 0.11],\n",
    "    },\n",
    "    {\n",
    "        \"_id\": \"3\",\n",
    "        \"name\": \"Vision Vector Frame\",\n",
    "        \"description\": \"Vision Vector Frame - An AI display that controls your mood\",\n",
    "        \"$vector\": [0.1, 0.05, 0.08, 0.3, 0.6],\n",
    "    },\n",
    "    {\n",
    "        \"_id\": \"4\",\n",
    "        \"name\": \"Admirable Artefact\",\n",
    "        \"description\": \"A deep learning device whose exact purpose defies explanation\",\n",
    "        \"$vector\": [-0.04, 0.17, 0.2, -0.41, 0.11],\n",
    "    },\n",
    "    {\n",
    "        \"_id\": \"4b\",\n",
    "        \"name\": \"Admirable Artefact\",\n",
    "        \"description\": \"A cheap knockoff of the original, and it shows\",\n",
    "        \"$vector\": [0.12, 0.08, -0.11, 0.32, 0.09],\n",
    "    },\n",
    "]\n",
    "\n",
    "response = collection.insert_many(v_doc_list)\n",
    "print(response)"
   ]
  },
  {
   "cell_type": "markdown",
   "id": "c13cfc42",
   "metadata": {},
   "source": [
    "## Find documents\n",
    "\n",
    "Find by `_id`:"
   ]
  },
  {
   "cell_type": "code",
   "execution_count": null,
   "id": "f312b0ab",
   "metadata": {},
   "outputs": [],
   "source": [
    "document = collection.find_one(filter={\"_id\":\"2\"})\n",
    "print(document)"
   ]
  },
  {
   "cell_type": "markdown",
   "id": "1c281d57-6149-4dc7-b6b8-419bc1e6e8b2",
   "metadata": {},
   "source": [
    "Find by any (non-vector) filter clause:"
   ]
  },
  {
   "cell_type": "code",
   "execution_count": null,
   "id": "66b95d09-8347-41ed-a3fc-492963192ac8",
   "metadata": {},
   "outputs": [],
   "source": [
    "document = collection.find_one(filter={\"name\":\"Admirable Artefact\"})\n",
    "print(document)"
   ]
  },
  {
   "cell_type": "markdown",
   "id": "08302258",
   "metadata": {},
   "source": [
    "### Find by vector similarity\n",
    "\n",
    "By default, the `$similarity` field is returned with each document (note the decreasing order):"
   ]
  },
  {
   "cell_type": "code",
   "execution_count": null,
   "id": "a8a3c1a8",
   "metadata": {},
   "outputs": [],
   "source": [
    "query_vector = [0.15, 0.1, 0.1, 0.35, 0.55]\n",
    "\n",
    "documents = collection.vector_find(query_vector, limit=5)\n",
    "for document in documents:\n",
    "    print(f\"\\n{document}\")"
   ]
  },
  {
   "cell_type": "markdown",
   "id": "966ae2b7-62bb-45d6-9c63-ee5a070d7ea8",
   "metadata": {},
   "source": [
    "You can specify which **fields** you'll get back and/or whether you need the **similarity** as well:"
   ]
  },
  {
   "cell_type": "code",
   "execution_count": null,
   "id": "2849712a-fef3-4ae0-984d-4dd23cb7d2b6",
   "metadata": {},
   "outputs": [],
   "source": [
    "documents = collection.vector_find(\n",
    "    query_vector,\n",
    "    limit=5,\n",
    "    fields=[\"name\", \"$vector\"],  # remember the dollar sign (reserved name)\n",
    "    include_similarity=False,\n",
    ")\n",
    "for document in documents:\n",
    "    print(f\"\\n{document}\")"
   ]
  },
  {
   "cell_type": "markdown",
   "id": "42c31dbe-263e-4997-b1fa-8be3613ea298",
   "metadata": {},
   "source": [
    "You can compound with other `filter` clauses, effectively implementing **metadata filtering** on your vector searches:"
   ]
  },
  {
   "cell_type": "code",
   "execution_count": null,
   "id": "56201b18-9672-46a3-a63c-49b032839706",
   "metadata": {},
   "outputs": [],
   "source": [
    "documents = collection.vector_find(\n",
    "    query_vector,\n",
    "    limit=5,\n",
    "    filter={\"name\": \"Admirable Artefact\"},\n",
    ")\n",
    "for document in documents:\n",
    "    print(f\"\\n{document}\")"
   ]
  },
  {
   "cell_type": "markdown",
   "id": "c35151b8",
   "metadata": {},
   "source": [
    "These options are supported for the `vector_find_one` method as well:"
   ]
  },
  {
   "cell_type": "code",
   "execution_count": null,
   "id": "87278dda",
   "metadata": {},
   "outputs": [],
   "source": [
    "fields = [\"description\"]\n",
    "\n",
    "document = collection.vector_find_one(\n",
    "    query_vector,\n",
    "    fields=[\"description\"],\n",
    "    include_similarity=True,  # not really necessary since True is the default\n",
    ")\n",
    "print(document)"
   ]
  },
  {
   "cell_type": "markdown",
   "id": "f04a1806",
   "metadata": {},
   "source": [
    "### Find-and-update with vector search"
   ]
  },
  {
   "cell_type": "code",
   "execution_count": null,
   "id": "e710c0b4",
   "metadata": {},
   "outputs": [],
   "source": [
    "query_vector2 = [0.11, 0.04, -0.02, 0.54, -0.05]\n",
    "update = {\"$set\": {\"status\": \"active\"}}\n",
    "\n",
    "collection.vector_find_one_and_update(query_vector2, update=update)\n",
    "\n",
    "document = collection.find_one(filter={\"status\": \"active\"})\n",
    "print(document) "
   ]
  },
  {
   "cell_type": "markdown",
   "id": "22966c97",
   "metadata": {},
   "source": [
    "### Find-and-replace with vector search\n",
    "\n",
    "Contrary to the above method, this one completely replaces the document. Notice for example that the _description_ field disappears:"
   ]
  },
  {
   "cell_type": "code",
   "execution_count": null,
   "id": "779e7f4d",
   "metadata": {},
   "outputs": [],
   "source": [
    "query_vector3 = [0.1, 0.05, 0.08, 0.3, 0.6]\n",
    "replacement = {\n",
    "    \"_id\": \"3\",\n",
    "    \"name\": \"Version Victor Fruit\",\n",
    "    \"summary\": \"A special edition of an already awesome gizmo\",\n",
    "    \"$vector\": [0.2, -0.15, 0.24, 0.02, -0.41],\n",
    "    \"status\": \"inactive\",\n",
    "}\n",
    "\n",
    "collection.vector_find_one_and_replace(query_vector3, replacement=replacement)\n",
    "\n",
    "document = collection.find_one(filter={\"_id\": \"3\"})\n",
    "print(document)"
   ]
  },
  {
   "cell_type": "markdown",
   "id": "4db9bca8",
   "metadata": {},
   "source": [
    "## Delete a collection"
   ]
  },
  {
   "cell_type": "code",
   "execution_count": null,
   "id": "0d47a986",
   "metadata": {},
   "outputs": [],
   "source": [
    "response = astra_db.delete_collection(\"test_collection\")\n",
    "print(response)"
   ]
  }
 ],
 "metadata": {
  "kernelspec": {
   "display_name": "Python 3 (ipykernel)",
   "language": "python",
   "name": "python3"
  },
  "language_info": {
   "codemirror_mode": {
    "name": "ipython",
    "version": 3
   },
   "file_extension": ".py",
   "mimetype": "text/x-python",
   "name": "python",
   "nbconvert_exporter": "python",
   "pygments_lexer": "ipython3",
   "version": "3.9.17"
  }
 },
 "nbformat": 4,
 "nbformat_minor": 5
}
