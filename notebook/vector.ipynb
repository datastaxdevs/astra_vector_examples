{
 "cells": [
  {
   "cell_type": "markdown",
   "id": "6715bc2b",
   "metadata": {},
   "source": [
    "# Using AstraPy with vector database\n",
    "\n",
    "Work with AstraPy"
   ]
  },
  {
   "cell_type": "markdown",
   "id": "761d9b70",
   "metadata": {},
   "source": [
    "Make sure you have a Database and get ready to upload the Secure Connect Bundle and supply the Token string\n",
    "(see [Pre-requisites](https://cassio.org/start_here/#vector-database) on cassio.org for details. Remember you need a **custom Token** with role [Database Administrator](https://awesome-astra.github.io/docs/pages/astra/create-token/))."
   ]
  },
  {
   "cell_type": "markdown",
   "id": "14da74b6",
   "metadata": {},
   "source": [
    "### Set up your python environment\n",
    "\n",
    "\n"
   ]
  },
  {
   "cell_type": "code",
   "execution_count": 1,
   "id": "042f832e",
   "metadata": {},
   "outputs": [
    {
     "name": "stdout",
     "output_type": "stream",
     "text": [
      "/Users/kirstenhunter/src/astra_vector_examples/notebook\n",
      "  % Total    % Received % Xferd  Average Speed   Time    Time     Time  Current\n",
      "                                 Dload  Upload   Total   Spent    Left  Speed\n",
      "100   107  100   107    0     0    351      0 --:--:-- --:--:-- --:--:--   368\n",
      "  % Total    % Received % Xferd  Average Speed   Time    Time     Time  Current\n",
      "                                 Dload  Upload   Total   Spent    Left  Speed\n",
      "100 61582  100 61582    0     0   227k      0 --:--:-- --:--:-- --:--:--  237k\n",
      "Processing ./astrapy.zip\n",
      "\u001b[31mERROR: file:///Users/kirstenhunter/src/astra_vector_examples/notebook/astrapy.zip does not appear to be a Python project: neither 'setup.py' nor 'pyproject.toml' found.\u001b[0m\u001b[31m\n",
      "\u001b[0mNote: you may need to restart the kernel to use updated packages.\n",
      "Requirement already satisfied: cassandra-driver==3.28.0 in /Users/kirstenhunter/.venv/lib/python3.10/site-packages (from -r requirements.txt (line 1)) (3.28.0)\n",
      "Requirement already satisfied: cassio==0.1.1 in /Users/kirstenhunter/.venv/lib/python3.10/site-packages (from -r requirements.txt (line 2)) (0.1.1)\n",
      "Requirement already satisfied: langchain==0.0.249 in /Users/kirstenhunter/.venv/lib/python3.10/site-packages (from -r requirements.txt (line 3)) (0.0.249)\n",
      "Requirement already satisfied: boto3==1.28.62 in /Users/kirstenhunter/.venv/lib/python3.10/site-packages (from -r requirements.txt (line 4)) (1.28.62)\n",
      "Requirement already satisfied: botocore==1.31.62 in /Users/kirstenhunter/.venv/lib/python3.10/site-packages (from -r requirements.txt (line 5)) (1.31.62)\n",
      "Requirement already satisfied: awscli==1.29.62 in /Users/kirstenhunter/.venv/lib/python3.10/site-packages (from -r requirements.txt (line 6)) (1.29.62)\n",
      "Requirement already satisfied: six>=1.9 in /Users/kirstenhunter/.venv/lib/python3.10/site-packages (from cassandra-driver==3.28.0->-r requirements.txt (line 1)) (1.16.0)\n",
      "Requirement already satisfied: geomet<0.3,>=0.1 in /Users/kirstenhunter/.venv/lib/python3.10/site-packages (from cassandra-driver==3.28.0->-r requirements.txt (line 1)) (0.2.1.post1)\n",
      "Requirement already satisfied: numpy>=1.0 in /Users/kirstenhunter/.venv/lib/python3.10/site-packages (from cassio==0.1.1->-r requirements.txt (line 2)) (1.23.5)\n",
      "Requirement already satisfied: PyYAML>=5.4.1 in /Users/kirstenhunter/.venv/lib/python3.10/site-packages (from langchain==0.0.249->-r requirements.txt (line 3)) (6.0.1)\n",
      "Requirement already satisfied: SQLAlchemy<3,>=1.4 in /Users/kirstenhunter/.venv/lib/python3.10/site-packages (from langchain==0.0.249->-r requirements.txt (line 3)) (2.0.21)\n",
      "Requirement already satisfied: aiohttp<4.0.0,>=3.8.3 in /Users/kirstenhunter/.venv/lib/python3.10/site-packages (from langchain==0.0.249->-r requirements.txt (line 3)) (3.8.5)\n",
      "Requirement already satisfied: async-timeout<5.0.0,>=4.0.0 in /Users/kirstenhunter/.venv/lib/python3.10/site-packages (from langchain==0.0.249->-r requirements.txt (line 3)) (4.0.2)\n",
      "Requirement already satisfied: dataclasses-json<0.6.0,>=0.5.7 in /Users/kirstenhunter/.venv/lib/python3.10/site-packages (from langchain==0.0.249->-r requirements.txt (line 3)) (0.5.13)\n",
      "Requirement already satisfied: langsmith<0.1.0,>=0.0.11 in /Users/kirstenhunter/.venv/lib/python3.10/site-packages (from langchain==0.0.249->-r requirements.txt (line 3)) (0.0.40)\n",
      "Requirement already satisfied: numexpr<3.0.0,>=2.8.4 in /Users/kirstenhunter/.venv/lib/python3.10/site-packages (from langchain==0.0.249->-r requirements.txt (line 3)) (2.8.4)\n",
      "Requirement already satisfied: openapi-schema-pydantic<2.0,>=1.2 in /Users/kirstenhunter/.venv/lib/python3.10/site-packages (from langchain==0.0.249->-r requirements.txt (line 3)) (1.2.4)\n",
      "Requirement already satisfied: pydantic<2,>=1 in /Users/kirstenhunter/.venv/lib/python3.10/site-packages (from langchain==0.0.249->-r requirements.txt (line 3)) (1.10.11)\n",
      "Requirement already satisfied: requests<3,>=2 in /Users/kirstenhunter/.venv/lib/python3.10/site-packages (from langchain==0.0.249->-r requirements.txt (line 3)) (2.31.0)\n",
      "Requirement already satisfied: tenacity<9.0.0,>=8.1.0 in /Users/kirstenhunter/.venv/lib/python3.10/site-packages (from langchain==0.0.249->-r requirements.txt (line 3)) (8.2.2)\n",
      "Requirement already satisfied: jmespath<2.0.0,>=0.7.1 in /Users/kirstenhunter/.venv/lib/python3.10/site-packages (from boto3==1.28.62->-r requirements.txt (line 4)) (1.0.1)\n",
      "Requirement already satisfied: s3transfer<0.8.0,>=0.7.0 in /Users/kirstenhunter/.venv/lib/python3.10/site-packages (from boto3==1.28.62->-r requirements.txt (line 4)) (0.7.0)\n",
      "Requirement already satisfied: python-dateutil<3.0.0,>=2.1 in /Users/kirstenhunter/.venv/lib/python3.10/site-packages (from botocore==1.31.62->-r requirements.txt (line 5)) (2.8.2)\n",
      "Requirement already satisfied: urllib3<2.1,>=1.25.4 in /Users/kirstenhunter/.venv/lib/python3.10/site-packages (from botocore==1.31.62->-r requirements.txt (line 5)) (1.26.16)\n",
      "Requirement already satisfied: docutils<0.17,>=0.10 in /Users/kirstenhunter/.venv/lib/python3.10/site-packages (from awscli==1.29.62->-r requirements.txt (line 6)) (0.16)\n",
      "Requirement already satisfied: colorama<0.4.5,>=0.2.5 in /Users/kirstenhunter/.venv/lib/python3.10/site-packages (from awscli==1.29.62->-r requirements.txt (line 6)) (0.4.4)\n",
      "Requirement already satisfied: rsa<4.8,>=3.1.2 in /Users/kirstenhunter/.venv/lib/python3.10/site-packages (from awscli==1.29.62->-r requirements.txt (line 6)) (4.7.2)\n",
      "Requirement already satisfied: attrs>=17.3.0 in /Users/kirstenhunter/.venv/lib/python3.10/site-packages (from aiohttp<4.0.0,>=3.8.3->langchain==0.0.249->-r requirements.txt (line 3)) (23.1.0)\n",
      "Requirement already satisfied: charset-normalizer<4.0,>=2.0 in /Users/kirstenhunter/.venv/lib/python3.10/site-packages (from aiohttp<4.0.0,>=3.8.3->langchain==0.0.249->-r requirements.txt (line 3)) (3.2.0)\n",
      "Requirement already satisfied: multidict<7.0,>=4.5 in /Users/kirstenhunter/.venv/lib/python3.10/site-packages (from aiohttp<4.0.0,>=3.8.3->langchain==0.0.249->-r requirements.txt (line 3)) (6.0.4)\n",
      "Requirement already satisfied: yarl<2.0,>=1.0 in /Users/kirstenhunter/.venv/lib/python3.10/site-packages (from aiohttp<4.0.0,>=3.8.3->langchain==0.0.249->-r requirements.txt (line 3)) (1.9.2)\n",
      "Requirement already satisfied: frozenlist>=1.1.1 in /Users/kirstenhunter/.venv/lib/python3.10/site-packages (from aiohttp<4.0.0,>=3.8.3->langchain==0.0.249->-r requirements.txt (line 3)) (1.4.0)\n",
      "Requirement already satisfied: aiosignal>=1.1.2 in /Users/kirstenhunter/.venv/lib/python3.10/site-packages (from aiohttp<4.0.0,>=3.8.3->langchain==0.0.249->-r requirements.txt (line 3)) (1.3.1)\n",
      "Requirement already satisfied: marshmallow<4.0.0,>=3.18.0 in /Users/kirstenhunter/.venv/lib/python3.10/site-packages (from dataclasses-json<0.6.0,>=0.5.7->langchain==0.0.249->-r requirements.txt (line 3)) (3.20.1)\n",
      "Requirement already satisfied: typing-inspect<1,>=0.4.0 in /Users/kirstenhunter/.venv/lib/python3.10/site-packages (from dataclasses-json<0.6.0,>=0.5.7->langchain==0.0.249->-r requirements.txt (line 3)) (0.9.0)\n",
      "Requirement already satisfied: click in /Users/kirstenhunter/.venv/lib/python3.10/site-packages (from geomet<0.3,>=0.1->cassandra-driver==3.28.0->-r requirements.txt (line 1)) (8.1.6)\n",
      "Requirement already satisfied: typing-extensions>=4.2.0 in /Users/kirstenhunter/.venv/lib/python3.10/site-packages (from pydantic<2,>=1->langchain==0.0.249->-r requirements.txt (line 3)) (4.7.1)\n",
      "Requirement already satisfied: idna<4,>=2.5 in /Users/kirstenhunter/.venv/lib/python3.10/site-packages (from requests<3,>=2->langchain==0.0.249->-r requirements.txt (line 3)) (3.4)\n",
      "Requirement already satisfied: certifi>=2017.4.17 in /Users/kirstenhunter/.venv/lib/python3.10/site-packages (from requests<3,>=2->langchain==0.0.249->-r requirements.txt (line 3)) (2023.7.22)\n",
      "Requirement already satisfied: pyasn1>=0.1.3 in /Users/kirstenhunter/.venv/lib/python3.10/site-packages (from rsa<4.8,>=3.1.2->awscli==1.29.62->-r requirements.txt (line 6)) (0.5.0)\n",
      "Requirement already satisfied: greenlet!=0.4.17 in /Users/kirstenhunter/.venv/lib/python3.10/site-packages (from SQLAlchemy<3,>=1.4->langchain==0.0.249->-r requirements.txt (line 3)) (2.0.2)\n",
      "Requirement already satisfied: packaging>=17.0 in /Users/kirstenhunter/.venv/lib/python3.10/site-packages (from marshmallow<4.0.0,>=3.18.0->dataclasses-json<0.6.0,>=0.5.7->langchain==0.0.249->-r requirements.txt (line 3)) (23.1)\n",
      "Requirement already satisfied: mypy-extensions>=0.3.0 in /Users/kirstenhunter/.venv/lib/python3.10/site-packages (from typing-inspect<1,>=0.4.0->dataclasses-json<0.6.0,>=0.5.7->langchain==0.0.249->-r requirements.txt (line 3)) (1.0.0)\n",
      "Note: you may need to restart the kernel to use updated packages.\n"
     ]
    }
   ],
   "source": [
    "!pwd\n",
    "!curl -H 'Cache-Control: no-cache, no-store'  https://raw.githubusercontent.com/synedra/astra_vector_examples/main/notebook/requirements_bedrock.txt --output requirements.txt\n",
    "!curl -H 'Cache-Control: no-cache, no-store'  https://raw.githubusercontent.com/synedra/astra_vector_examples/main/astrapy.zip --output astrapy.zip\n",
    "%pip install astrapy.zip\n",
    "%pip install -r requirements.txt\n"
   ]
  },
  {
   "cell_type": "markdown",
   "id": "84026946",
   "metadata": {},
   "source": [
    "### Import needed libraries\n",
    "\n"
   ]
  },
  {
   "cell_type": "code",
   "execution_count": 2,
   "id": "5b15d1a4",
   "metadata": {},
   "outputs": [],
   "source": [
    "from cassandra.cluster import Cluster, ExecutionProfile, EXEC_PROFILE_DEFAULT, ProtocolVersion\n",
    "from cassandra.auth import PlainTextAuthProvider\n",
    "from langchain.embeddings import BedrockEmbeddings\n",
    "from langchain.llms.bedrock import Bedrock\n",
    "from langchain.vectorstores.cassandra import Cassandra\n",
    "from langchain.docstore.document import Document\n",
    "from langchain.prompts import PromptTemplate\n",
    "import boto3, json, os, sys\n",
    "from getpass import getpass\n",
    "from langchain.docstore.document import Document\n",
    "from langchain.document_loaders import TextLoader\n"
   ]
  },
  {
   "cell_type": "markdown",
   "id": "485d5347",
   "metadata": {},
   "source": [
    "### Astra Setup\n",
    "\n"
   ]
  },
  {
   "cell_type": "markdown",
   "id": "6429f29a",
   "metadata": {
    "id": "QNQ6T_Gjk0Oz"
   },
   "source": [
    "### Astra DB Secure Connect Bundle\n",
    "\n",
    "Please upload the Secure Connect Bundle zipfile to connect to your Astra DB instance.\n",
    "\n",
    "The Secure Connect Bundle is needed to establish a secure connection to the database.\n",
    "Click [here](https://awesome-astra.github.io/docs/pages/astra/download-scb/#c-procedure) for instructions on how to download it from Astra DB."
   ]
  },
  {
   "cell_type": "code",
   "execution_count": null,
   "id": "a394ab26",
   "metadata": {},
   "outputs": [],
   "source": [
    "# Upload your Secure Connect Bundle zipfile:\n",
    "import os\n",
    "from google.colab import files\n",
    "\n",
    "\n",
    "print('Please upload your Secure Connect Bundle')\n",
    "uploaded = files.upload()\n",
    "if uploaded:\n",
    "    astraBundleFileTitle = list(uploaded.keys())[0]\n",
    "    ASTRA_DB_SECURE_BUNDLE_PATH = os.path.join(os.getcwd(), astraBundleFileTitle)\n",
    "else:\n",
    "    raise ValueError(\n",
    "        'Cannot proceed without Secure Connect Bundle. Please re-run the cell.'\n",
    "    )"
   ]
  },
  {
   "cell_type": "code",
   "execution_count": null,
   "id": "c2296fea",
   "metadata": {},
   "outputs": [],
   "source": [
    "# Input your database keyspace name:\n",
    "ASTRA_DB_KEYSPACE = input('Your Astra DB Keyspace name (e.g. vector): ')"
   ]
  },
  {
   "cell_type": "code",
   "execution_count": null,
   "id": "6002dfc3",
   "metadata": {},
   "outputs": [],
   "source": [
    "# Input your Astra DB token string, the one starting with \"AstraCS:...\"\n",
    "from getpass import getpass\n",
    "ASTRA_DB_APPLICATION_TOKEN = getpass('Your Astra DB Token (\"AstraCS:...\"): ')"
   ]
  },
  {
   "cell_type": "code",
   "execution_count": null,
   "id": "fc4d681d",
   "metadata": {},
   "outputs": [],
   "source": [
    "# colab-specific override of helper functions\n",
    "from cassandra.cluster import (\n",
    "    Cluster,\n",
    ")\n",
    "from cassandra.auth import PlainTextAuthProvider\n",
    "profile = ExecutionProfile(request_timeout=30)\n",
    "\n",
    "\n",
    "def getCQLSession(mode='astra_db'):\n",
    "    if mode == 'astra_db':\n",
    "        cluster = Cluster(\n",
    "            cloud={\n",
    "                \"secure_connect_bundle\": ASTRA_DB_SECURE_BUNDLE_PATH,\n",
    "            },\n",
    "            auth_provider=PlainTextAuthProvider(\n",
    "                \"token\",\n",
    "                ASTRA_DB_APPLICATION_TOKEN,\n",
    "            ),\n",
    "           protocol_version=ProtocolVersion.V4,\n",
    "           execution_profiles={EXEC_PROFILE_DEFAULT: profile},\n",
    "        )\n",
    "        astraSession = cluster.connect()\n",
    "        return astraSession\n",
    "    else:\n",
    "        raise ValueError('Unsupported CQL Session mode')\n",
    "\n",
    "def getCQLKeyspace(mode='astra_db'):\n",
    "    if mode == 'astra_db':\n",
    "        return ASTRA_DB_KEYSPACE\n",
    "    else:\n",
    "        raise ValueError('Unsupported CQL Session mode')"
   ]
  },
  {
   "cell_type": "code",
   "execution_count": 2,
   "id": "11013224",
   "metadata": {},
   "outputs": [],
   "source": [
    "# creation of the DB connection\n",
    "cqlMode = 'astra_db'\n",
    "session = getCQLSession(mode=cqlMode)\n",
    "keyspace = getCQLKeyspace(mode=cqlMode)"
   ]
  },
  {
   "cell_type": "markdown",
   "id": "501df1e6",
   "metadata": {},
   "source": [
    "### AWS Credential Setup\n",
    "\n"
   ]
  },
  {
   "cell_type": "code",
   "execution_count": null,
   "id": "c29a6f70",
   "metadata": {},
   "outputs": [],
   "source": [
    "# Input your AWS Access Key ID\n",
    "os.environ[\"AWS_ACCESS_KEY_ID\"] = getpass('Your AWS Access Key ID: ')"
   ]
  },
  {
   "cell_type": "code",
   "execution_count": null,
   "id": "c9b5c026",
   "metadata": {},
   "outputs": [],
   "source": [
    "# Input your AWS Secret Access Key\n",
    "os.environ[\"AWS_SECRET_ACCESS_KEY\"] = getpass('Your AWS Secret Access Key: ')"
   ]
  },
  {
   "cell_type": "code",
   "execution_count": null,
   "id": "9bf233ab",
   "metadata": {},
   "outputs": [],
   "source": [
    "# Input your AWS Session Token\n",
    "os.environ[\"AWS_SESSION_TOKEN\"] = getpass('Your AWS Session Token: ')"
   ]
  },
  {
   "cell_type": "markdown",
   "id": "4388ac1d",
   "metadata": {},
   "source": [
    "### Set up AWS Bedrock objects\n",
    "\n"
   ]
  },
  {
   "cell_type": "code",
   "execution_count": 3,
   "id": "d65c46f0",
   "metadata": {},
   "outputs": [],
   "source": [
    "bedrock_runtime=boto3.client('bedrock-runtime','us-west-2',endpoint_url='https://bedrock.us-west-2.amazonaws.com')\n",
    "bedrock_embeddings = BedrockEmbeddings(model_id=\"amazon.titan-embed-text-v1\", client=bedrock_runtime)\n"
   ]
  },
  {
   "cell_type": "markdown",
   "id": "29d9f48b",
   "metadata": {},
   "source": [
    "### Set up a vectorstore in Astra"
   ]
  },
  {
   "cell_type": "code",
   "execution_count": 4,
   "id": "29d9f48c",
   "metadata": {},
   "outputs": [],
   "source": [
    "myCassandraVStore = Cassandra(\n",
    "embedding=bedrock_embeddings,\n",
    "session=session,\n",
    "keyspace=ASTRA_DB_KEYSPACE,\n",
    "table_name='shakespeare_act5'\n",
    ")\n"
   ]
  },
  {
   "cell_type": "markdown",
   "id": "4c3274d4",
   "metadata": {},
   "source": [
    "### Populate the database\n",
    "\n",
    "Add lines for the text of Romeo and Astra, Scene 5, Act 3\n",
    "\n"
   ]
  },
  {
   "cell_type": "code",
   "execution_count": null,
   "id": "8982071c",
   "metadata": {},
   "outputs": [],
   "source": [
    "# retrieve the text of a scene from act 5 of Romeo and Astra. \n",
    "# Juliet's name was changed to Astra to prevent the LLM from \"cheating\" when providing an answer.\n",
    "! mkdir texts\n",
    "! curl https://raw.githubusercontent.com/synedra/astra_vector_examples/main/romeo_astra.json --output texts/romeo_astra.json\n",
    "quote_array = json.load(open('texts/romeo_astra.json'))\n"
   ]
  },
  {
   "cell_type": "markdown",
   "id": "4cb6b732",
   "metadata": {},
   "source": [
    "Next, you'll populate the database with the lines from the play.\n",
    "This can take a couple of minutes, please be patient.  In total there are 321 lines.\n"
   ]
  },
  {
   "cell_type": "code",
   "execution_count": 5,
   "id": "7bae5520",
   "metadata": {},
   "outputs": [],
   "source": [
    "for index in range(len(quote_array)):\n",
    " location = ''\n",
    " if (quote_array[index]['ActSceneLine'] != ''):\n",
    "    (act, scene, line) = quote_array[index]['ActSceneLine'].split('.')\n",
    "    location = 'Act {}, Scene {}, Line {}'.format(act, scene, line)\n",
    " quote_input = '{} : {} : {}'.format(location, quote_array[index]['Player'], quote_array[index]['PlayerLine'])\n",
    " input_document = Document(page_content=quote_input)\n",
    " print(quote_input)\n",
    " myCassandraVStore.add_documents(documents=[input_document])\n"
   ]
  },
  {
   "cell_type": "markdown",
   "id": "d189ec8b",
   "metadata": {},
   "source": [
    "### Ask a question\n",
    "Enter a question and create the prompt template for the LLM query.  \n",
    "Give instructions about what you want the model to do.\n"
   ]
  },
  {
   "cell_type": "code",
   "execution_count": null,
   "id": "f825b6ef",
   "metadata": {},
   "outputs": [],
   "source": [
    "# Enter a question about Romeo and Astra (Like 'How did Astra die?')\n",
    "QUESTION_FOR_MODEL = input('Your question about Romeo and Astra: ')"
   ]
  },
  {
   "cell_type": "code",
   "execution_count": 6,
   "id": "e4e816ee",
   "metadata": {},
   "outputs": [],
   "source": [
    "generation_prompt_template = \"\"\"Please answer a question from a user.\n",
    "Create a summary of the information between ## to answer the question. \n",
    "Your task is to answer the question using only the summary using 20 words. \n",
    "\n",
    "#\n",
    "{context}\n",
    "#\n",
    "\n",
    "question= {question}\n",
    "Answer:\"\"\"\n"
   ]
  },
  {
   "cell_type": "markdown",
   "id": "f18cbb6b",
   "metadata": {},
   "source": [
    "### Create a retriever\n",
    "This will allow you to get the most relevant documents from the database\n"
   ]
  },
  {
   "cell_type": "code",
   "execution_count": 6,
   "id": "2e92723d",
   "metadata": {},
   "outputs": [],
   "source": [
    "retriever = myCassandraVStore.as_retriever(search_kwargs={'k':2,})\n",
    "output=retriever.get_relevant_documents(QUESTION_FOR_MODEL)\n",
    "prompt = PromptTemplate.from_template(\"{page_content}\")\n",
    "context = ''\n",
    "for document in output:\n",
    "    context += ' *** ' + document.page_content \n",
    "\n",
    "print(context)\n"
   ]
  },
  {
   "cell_type": "markdown",
   "id": "1076f354",
   "metadata": {},
   "source": [
    "### Build the llm prompt\n"
   ]
  },
  {
   "cell_type": "code",
   "execution_count": 6,
   "id": "83c9d38e",
   "metadata": {},
   "outputs": [],
   "source": [
    "llm_prompt = generation_prompt_template.format(\n",
    "    question=QUESTION_FOR_MODEL,\n",
    "    context=context,\n",
    ")\n"
   ]
  },
  {
   "cell_type": "markdown",
   "id": "f09831bc",
   "metadata": {},
   "source": [
    "### Generate the Answer \n",
    "Generate the answer using the prompt, using amazon.titan-tg1-large as the LLM model\n"
   ]
  },
  {
   "cell_type": "code",
   "execution_count": 6,
   "id": "7d04d378",
   "metadata": {},
   "outputs": [],
   "source": [
    "body = json.dumps({'inputText': llm_prompt})\n",
    "modelId = 'amazon.titan-tg1-large' \n",
    "accept = 'application/json'\n",
    "contentType = 'application/json'\n",
    "response = bedrock_runtime.invoke_model(body=body, modelId=modelId, accept=accept, contentType=contentType)\n",
    "response_body = json.loads(response.get('body').read())\n",
    "print ('Question: ' + QUESTION_FOR_MODEL)\n",
    "print ('Answer: ' + response_body.get('results')[0].get('outputText'))\n"
   ]
  },
  {
   "cell_type": "markdown",
   "id": "f31c2d97",
   "metadata": {},
   "source": [
    "### Additional resources\n",
    "To learn more about Amazon Bedrock you can check out this site:  https://github.com/aws-samples/amazon-bedrock-samples/tree/main/introduction-to-bedrock"
   ]
  }
 ],
 "metadata": {
  "kernelspec": {
   "display_name": "Python 3 (ipykernel)",
   "language": "python",
   "name": "python3"
  },
  "language_info": {
   "codemirror_mode": {
    "name": "ipython",
    "version": 3
   },
   "file_extension": ".py",
   "mimetype": "text/x-python",
   "name": "python",
   "nbconvert_exporter": "python",
   "pygments_lexer": "ipython3",
   "version": "3.10.11"
  }
 },
 "nbformat": 4,
 "nbformat_minor": 5
}
